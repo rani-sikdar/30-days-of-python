{
  "nbformat": 4,
  "nbformat_minor": 0,
  "metadata": {
    "colab": {
      "provenance": [],
      "authorship_tag": "ABX9TyNd0LKMAsIn2EmiXsprmsQp",
      "include_colab_link": true
    },
    "kernelspec": {
      "name": "python3",
      "display_name": "Python 3"
    },
    "language_info": {
      "name": "python"
    }
  },
  "cells": [
    {
      "cell_type": "markdown",
      "metadata": {
        "id": "view-in-github",
        "colab_type": "text"
      },
      "source": [
        "<a href=\"https://colab.research.google.com/github/rani-sikdar/30-days-of-python/blob/main/day6_tuple.ipynb\" target=\"_parent\"><img src=\"https://colab.research.google.com/assets/colab-badge.svg\" alt=\"Open In Colab\"/></a>"
      ]
    },
    {
      "cell_type": "code",
      "execution_count": 1,
      "metadata": {
        "id": "2mbCIxT72QIl"
      },
      "outputs": [],
      "source": [
        "# syntax\n",
        "empty_tuple = ()\n",
        "# or using the tuple constructor\n",
        "empty_tuple = tuple()"
      ]
    },
    {
      "cell_type": "code",
      "source": [
        "# syntax\n",
        "tpl = ('item1', 'item2','item3')"
      ],
      "metadata": {
        "id": "RfBTUNKB2ToH"
      },
      "execution_count": 2,
      "outputs": []
    },
    {
      "cell_type": "code",
      "source": [
        "fruits = ('banana', 'orange', 'mango', 'lemon')"
      ],
      "metadata": {
        "id": "kgCgcN8Q2TrK"
      },
      "execution_count": 3,
      "outputs": []
    },
    {
      "cell_type": "code",
      "source": [
        "# syntax\n",
        "tpl = ('item1', 'item2', 'item3')\n",
        "len(tpl)"
      ],
      "metadata": {
        "colab": {
          "base_uri": "https://localhost:8080/"
        },
        "id": "PBpde3pj2Tt0",
        "outputId": "04b6448c-7c8d-4c9a-a53b-2f5301692211"
      },
      "execution_count": 4,
      "outputs": [
        {
          "output_type": "execute_result",
          "data": {
            "text/plain": [
              "3"
            ]
          },
          "metadata": {},
          "execution_count": 4
        }
      ]
    },
    {
      "cell_type": "code",
      "source": [
        "# Syntax\n",
        "tpl = ('item1', 'item2', 'item3')\n",
        "first_item = tpl[0]\n",
        "second_item = tpl[1]"
      ],
      "metadata": {
        "id": "AgbvlGJv2Twi"
      },
      "execution_count": 5,
      "outputs": []
    },
    {
      "cell_type": "code",
      "source": [
        "fruits = ('banana', 'orange', 'mango', 'lemon')\n",
        "first_fruit = fruits[0]\n",
        "second_fruit = fruits[1]\n",
        "last_index =len(fruits) - 1\n",
        "last_fruit = fruits[last_index]"
      ],
      "metadata": {
        "id": "3jeBPr5Y2TzJ"
      },
      "execution_count": 7,
      "outputs": []
    },
    {
      "cell_type": "code",
      "source": [
        "last_fruit"
      ],
      "metadata": {
        "colab": {
          "base_uri": "https://localhost:8080/",
          "height": 35
        },
        "id": "dJnqvrLq2T2R",
        "outputId": "737901af-afc4-4b9a-c3ec-ee0e9252ce15"
      },
      "execution_count": 8,
      "outputs": [
        {
          "output_type": "execute_result",
          "data": {
            "text/plain": [
              "'lemon'"
            ],
            "application/vnd.google.colaboratory.intrinsic+json": {
              "type": "string"
            }
          },
          "metadata": {},
          "execution_count": 8
        }
      ]
    },
    {
      "cell_type": "code",
      "source": [
        "# Syntax\n",
        "tpl = ('item1', 'item2', 'item3','item4')\n",
        "first_item = tpl[-4]\n",
        "second_item = tpl[-3]"
      ],
      "metadata": {
        "id": "eCRWTc4p2T45"
      },
      "execution_count": 9,
      "outputs": []
    },
    {
      "cell_type": "code",
      "source": [
        "fruits = ('banana', 'orange', 'mango', 'lemon')\n",
        "first_fruit = fruits[-4]\n",
        "second_fruit = fruits[-3]\n",
        "last_fruit = fruits[-1]"
      ],
      "metadata": {
        "id": "eLlQfmTj2T7j"
      },
      "execution_count": 10,
      "outputs": []
    },
    {
      "cell_type": "code",
      "source": [
        "print(first_fruit)\n",
        "print(second_fruit)\n",
        "print(last_fruit)"
      ],
      "metadata": {
        "colab": {
          "base_uri": "https://localhost:8080/"
        },
        "id": "4mO4JZDM2u_h",
        "outputId": "1d7e9930-84e1-41ba-d575-841385b7cd65"
      },
      "execution_count": 13,
      "outputs": [
        {
          "output_type": "stream",
          "name": "stdout",
          "text": [
            "banana\n",
            "orange\n",
            "lemon\n"
          ]
        }
      ]
    },
    {
      "cell_type": "code",
      "source": [
        "# Syntax\n",
        "tpl = ('item1', 'item2', 'item3','item4')\n",
        "all_items = tpl[0:4]         # all items\n",
        "all_items = tpl[0:]         # all items\n",
        "middle_two_items = tpl[1:3]  # does not include item at index 3"
      ],
      "metadata": {
        "id": "WEHJ_tAP2T-j"
      },
      "execution_count": 11,
      "outputs": []
    },
    {
      "cell_type": "code",
      "source": [
        "all_items"
      ],
      "metadata": {
        "colab": {
          "base_uri": "https://localhost:8080/"
        },
        "id": "k6deKtWt2UB6",
        "outputId": "6934bd7a-d998-40c3-c804-4f26c398787b"
      },
      "execution_count": 14,
      "outputs": [
        {
          "output_type": "execute_result",
          "data": {
            "text/plain": [
              "('item1', 'item2', 'item3', 'item4')"
            ]
          },
          "metadata": {},
          "execution_count": 14
        }
      ]
    },
    {
      "cell_type": "code",
      "source": [
        "middle_two_items"
      ],
      "metadata": {
        "colab": {
          "base_uri": "https://localhost:8080/"
        },
        "id": "A9cP-mnS25C8",
        "outputId": "78d13017-6e80-4e2a-c3da-a07808765ac1"
      },
      "execution_count": 15,
      "outputs": [
        {
          "output_type": "execute_result",
          "data": {
            "text/plain": [
              "('item2', 'item3')"
            ]
          },
          "metadata": {},
          "execution_count": 15
        }
      ]
    },
    {
      "cell_type": "code",
      "source": [
        "fruits = ('banana', 'orange', 'mango', 'lemon')\n",
        "all_fruits = fruits[0:4]    # all items\n",
        "all_fruits= fruits[0:]      # all items\n",
        "orange_mango = fruits[1:3]  # doesn't include item at index 3\n",
        "orange_to_the_rest = fruits[1:]"
      ],
      "metadata": {
        "id": "57KKPWzX256W"
      },
      "execution_count": 16,
      "outputs": []
    },
    {
      "cell_type": "code",
      "source": [
        "orange_mango"
      ],
      "metadata": {
        "colab": {
          "base_uri": "https://localhost:8080/"
        },
        "id": "d1AuPToe2-dv",
        "outputId": "4b633652-ccb6-4c77-9b1c-2f98939397ec"
      },
      "execution_count": 17,
      "outputs": [
        {
          "output_type": "execute_result",
          "data": {
            "text/plain": [
              "('orange', 'mango')"
            ]
          },
          "metadata": {},
          "execution_count": 17
        }
      ]
    },
    {
      "cell_type": "code",
      "source": [
        "orange_to_the_rest"
      ],
      "metadata": {
        "colab": {
          "base_uri": "https://localhost:8080/"
        },
        "id": "VtS12lmi2-a0",
        "outputId": "42db381e-7d0a-4938-fd4f-c15d5b0755b3"
      },
      "execution_count": 18,
      "outputs": [
        {
          "output_type": "execute_result",
          "data": {
            "text/plain": [
              "('orange', 'mango', 'lemon')"
            ]
          },
          "metadata": {},
          "execution_count": 18
        }
      ]
    },
    {
      "cell_type": "code",
      "source": [
        "# Syntax\n",
        "tpl = ('item1', 'item2', 'item3','item4')\n",
        "all_items = tpl[-4:]         # all items\n",
        "middle_two_items = tpl[-3:-1]  # does not include item at index 3 (-1)"
      ],
      "metadata": {
        "id": "lTHJlwmT2-X9"
      },
      "execution_count": 19,
      "outputs": []
    },
    {
      "cell_type": "code",
      "source": [
        "all_items, middle_two_items"
      ],
      "metadata": {
        "colab": {
          "base_uri": "https://localhost:8080/"
        },
        "id": "c9eUWBbH2-Vf",
        "outputId": "509ada7c-1c29-4007-dd32-460b032db484"
      },
      "execution_count": 20,
      "outputs": [
        {
          "output_type": "execute_result",
          "data": {
            "text/plain": [
              "(('item1', 'item2', 'item3', 'item4'), ('item2', 'item3'))"
            ]
          },
          "metadata": {},
          "execution_count": 20
        }
      ]
    },
    {
      "cell_type": "code",
      "source": [
        "fruits = ('banana', 'orange', 'mango', 'lemon')\n",
        "all_fruits = fruits[-4:]    # all items\n",
        "orange_mango = fruits[-3:-1]  # doesn't include item at index 3\n",
        "orange_to_the_rest = fruits[-3:]"
      ],
      "metadata": {
        "id": "HBtVoqyb2-Si"
      },
      "execution_count": 22,
      "outputs": []
    },
    {
      "cell_type": "code",
      "source": [
        "orange_mango"
      ],
      "metadata": {
        "colab": {
          "base_uri": "https://localhost:8080/"
        },
        "id": "1k1GyujM2-Pq",
        "outputId": "a7b74daa-943b-4fa2-b9e4-939f9fef8b05"
      },
      "execution_count": 23,
      "outputs": [
        {
          "output_type": "execute_result",
          "data": {
            "text/plain": [
              "('orange', 'mango')"
            ]
          },
          "metadata": {},
          "execution_count": 23
        }
      ]
    },
    {
      "cell_type": "code",
      "source": [
        "orange_to_the_rest"
      ],
      "metadata": {
        "colab": {
          "base_uri": "https://localhost:8080/"
        },
        "id": "bBnp_QRP2-KG",
        "outputId": "a89039a2-8470-4d65-90c4-fe30157d43b7"
      },
      "execution_count": 24,
      "outputs": [
        {
          "output_type": "execute_result",
          "data": {
            "text/plain": [
              "('orange', 'mango', 'lemon')"
            ]
          },
          "metadata": {},
          "execution_count": 24
        }
      ]
    },
    {
      "cell_type": "code",
      "source": [
        "# Syntax\n",
        "tpl = ('item1', 'item2', 'item3','item4')\n",
        "lst = list(tpl)"
      ],
      "metadata": {
        "id": "uUppvodR2-BM"
      },
      "execution_count": 25,
      "outputs": []
    },
    {
      "cell_type": "code",
      "source": [
        "fruits = ('banana', 'orange', 'mango', 'lemon')\n",
        "fruits = list(fruits)\n",
        "fruits[0] = 'apple'\n",
        "print(fruits)     # ['apple', 'orange', 'mango', 'lemon']\n",
        "fruits = tuple(fruits)\n",
        "print(fruits)     # ('apple', 'orange', 'mango', 'lemon')"
      ],
      "metadata": {
        "colab": {
          "base_uri": "https://localhost:8080/"
        },
        "id": "r1_eETUh3UE_",
        "outputId": "91d33df5-6dff-46d0-e428-8c9cc9695a06"
      },
      "execution_count": 26,
      "outputs": [
        {
          "output_type": "stream",
          "name": "stdout",
          "text": [
            "['apple', 'orange', 'mango', 'lemon']\n",
            "('apple', 'orange', 'mango', 'lemon')\n"
          ]
        }
      ]
    },
    {
      "cell_type": "code",
      "source": [
        "# Syntax\n",
        "tpl = ('item1', 'item2', 'item3','item4')\n",
        "'item2' in tpl # True"
      ],
      "metadata": {
        "colab": {
          "base_uri": "https://localhost:8080/"
        },
        "id": "LnwYb3Pt3UBx",
        "outputId": "27f96656-0c1a-4e0d-db34-34e7d19f0dbf"
      },
      "execution_count": 27,
      "outputs": [
        {
          "output_type": "execute_result",
          "data": {
            "text/plain": [
              "True"
            ]
          },
          "metadata": {},
          "execution_count": 27
        }
      ]
    },
    {
      "cell_type": "code",
      "source": [
        "fruits = ('banana', 'orange', 'mango', 'lemon')\n",
        "print('orange' in fruits) # True\n",
        "print('apple' in fruits) # False\n",
        "# fruits[0] = 'apple' # TypeError: 'tuple' object does not support item assignment"
      ],
      "metadata": {
        "colab": {
          "base_uri": "https://localhost:8080/"
        },
        "id": "Elky7-ro3T-6",
        "outputId": "af03ad81-d1a7-4267-af91-97f3361a548a"
      },
      "execution_count": 29,
      "outputs": [
        {
          "output_type": "stream",
          "name": "stdout",
          "text": [
            "True\n",
            "False\n"
          ]
        }
      ]
    },
    {
      "cell_type": "code",
      "source": [
        "# syntax\n",
        "tpl1 = ('item1', 'item2', 'item3')\n",
        "tpl2 = ('item4', 'item5','item6')\n",
        "tpl3 = tpl1 + tpl2"
      ],
      "metadata": {
        "id": "cEiqrP_D3T8S"
      },
      "execution_count": 30,
      "outputs": []
    },
    {
      "cell_type": "code",
      "source": [
        "fruits = ('banana', 'orange', 'mango', 'lemon')\n",
        "vegetables = ('Tomato', 'Potato', 'Cabbage','Onion', 'Carrot')\n",
        "fruits_and_vegetables = fruits + vegetables"
      ],
      "metadata": {
        "id": "5efBAwZT3T5d"
      },
      "execution_count": 31,
      "outputs": []
    },
    {
      "cell_type": "code",
      "source": [
        "fruits_and_vegetables"
      ],
      "metadata": {
        "colab": {
          "base_uri": "https://localhost:8080/"
        },
        "id": "ttI36URw3T2x",
        "outputId": "e9ef6c00-7089-40df-9aa5-ed1f58a63c9f"
      },
      "execution_count": 33,
      "outputs": [
        {
          "output_type": "execute_result",
          "data": {
            "text/plain": [
              "('banana',\n",
              " 'orange',\n",
              " 'mango',\n",
              " 'lemon',\n",
              " 'Tomato',\n",
              " 'Potato',\n",
              " 'Cabbage',\n",
              " 'Onion',\n",
              " 'Carrot')"
            ]
          },
          "metadata": {},
          "execution_count": 33
        }
      ]
    },
    {
      "cell_type": "code",
      "source": [
        "# syntax\n",
        "tpl1 = ('item1', 'item2', 'item3')\n",
        "del tpl1\n"
      ],
      "metadata": {
        "id": "MvUiDAWB3Tz9"
      },
      "execution_count": 34,
      "outputs": []
    },
    {
      "cell_type": "code",
      "source": [
        "fruits = ('banana', 'orange', 'mango', 'lemon')\n",
        "del fruits"
      ],
      "metadata": {
        "id": "GNoHu-k63TxD"
      },
      "execution_count": 35,
      "outputs": []
    }
  ]
}