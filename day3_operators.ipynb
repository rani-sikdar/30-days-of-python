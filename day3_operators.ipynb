{
  "nbformat": 4,
  "nbformat_minor": 0,
  "metadata": {
    "colab": {
      "provenance": [],
      "authorship_tag": "ABX9TyMkUpR7Y4hNGpXId5+ab5Ic",
      "include_colab_link": true
    },
    "kernelspec": {
      "name": "python3",
      "display_name": "Python 3"
    },
    "language_info": {
      "name": "python"
    }
  },
  "cells": [
    {
      "cell_type": "markdown",
      "metadata": {
        "id": "view-in-github",
        "colab_type": "text"
      },
      "source": [
        "<a href=\"https://colab.research.google.com/github/rani-sikdar/30-days-of-python/blob/main/day3_operators.ipynb\" target=\"_parent\"><img src=\"https://colab.research.google.com/assets/colab-badge.svg\" alt=\"Open In Colab\"/></a>"
      ]
    },
    {
      "cell_type": "markdown",
      "source": [
        "# Arithmetic Operations in Python"
      ],
      "metadata": {
        "id": "uKP_Q1cWfAYW"
      }
    },
    {
      "cell_type": "code",
      "execution_count": 1,
      "metadata": {
        "colab": {
          "base_uri": "https://localhost:8080/"
        },
        "id": "OtcOMMICdWHr",
        "outputId": "e5226777-6300-435c-e974-49ce04bea2e3"
      },
      "outputs": [
        {
          "output_type": "stream",
          "name": "stdout",
          "text": [
            "Addition:  3\n",
            "Subtraction:  1\n",
            "Multiplication:  6\n",
            "Division:  2.0\n",
            "Division:  3.0\n",
            "Division:  3.5\n",
            "Division without the remainder:  3\n",
            "Modulus:  1\n",
            "Division without the remainder:  2\n",
            "Exponential:  9\n"
          ]
        }
      ],
      "source": [
        "# Integers\n",
        "\n",
        "print('Addition: ', 1 + 2)\n",
        "print('Subtraction: ', 2 - 1)\n",
        "print('Multiplication: ', 2 * 3)\n",
        "print ('Division: ', 4 / 2)                         # Division in python gives floating number\n",
        "print('Division: ', 6 / 2)\n",
        "print('Division: ', 7 / 2)\n",
        "print('Division without the remainder: ', 7 // 2)   # gives without the floating number or without the remaining\n",
        "print('Modulus: ', 3 % 2)                           # Gives the remainder\n",
        "print ('Division without the remainder: ', 7 // 3)\n",
        "print('Exponential: ', 3 ** 2)                     # it means 3 * 3\n"
      ]
    },
    {
      "cell_type": "code",
      "source": [
        "# Floating numbers\n",
        "print('Floating Number,PI', 3.14)\n",
        "print('Floating Number, gravity', 9.81)"
      ],
      "metadata": {
        "colab": {
          "base_uri": "https://localhost:8080/"
        },
        "id": "6Ia2fcFVeMOD",
        "outputId": "1776350e-d45d-4e57-f6e4-ba5c2b6c5820"
      },
      "execution_count": 2,
      "outputs": [
        {
          "output_type": "stream",
          "name": "stdout",
          "text": [
            "Floating Number,PI 3.14\n",
            "Floating Number, gravity 9.81\n"
          ]
        }
      ]
    },
    {
      "cell_type": "code",
      "source": [
        "# Complex numbers\n",
        "print('Complex number: ', 1 + 1j)\n",
        "print('Multiplying complex number: ',(1 + 1j) * (1-1j))"
      ],
      "metadata": {
        "colab": {
          "base_uri": "https://localhost:8080/"
        },
        "id": "yrkY5qcYeMKr",
        "outputId": "31802683-e574-4c32-8065-f805ec4cc94b"
      },
      "execution_count": 3,
      "outputs": [
        {
          "output_type": "stream",
          "name": "stdout",
          "text": [
            "Complex number:  (1+1j)\n",
            "Multiplying complex number:  (2+0j)\n"
          ]
        }
      ]
    },
    {
      "cell_type": "code",
      "source": [
        "# Declaring the variable at the top first\n",
        "\n",
        "a = 3 # a is a variable name and 3 is an integer data type\n",
        "b = 2 # b is a variable name and 3 is an integer data type\n",
        "\n",
        "# Arithmetic operations and assigning the result to a variable\n",
        "total = a + b\n",
        "diff = a - b\n",
        "product = a * b\n",
        "division = a / b\n",
        "remainder = a % b\n",
        "floor_division = a // b\n",
        "exponential = a ** b"
      ],
      "metadata": {
        "id": "IMEKffRyeMH9"
      },
      "execution_count": 4,
      "outputs": []
    },
    {
      "cell_type": "code",
      "source": [
        "# Declaring values and organizing them together\n",
        "num_one = 3\n",
        "num_two = 4\n",
        "\n",
        "# Arithmetic operations\n",
        "total = num_one + num_two\n",
        "diff = num_two - num_one\n",
        "product = num_one * num_two\n",
        "div = num_two / num_two\n",
        "remainder = num_two % num_one\n",
        "\n",
        "# Printing values with label\n",
        "print('total: ', total)\n",
        "print('difference: ', diff)\n",
        "print('product: ', product)\n",
        "print('division: ', div)\n",
        "print('remainder: ', remainder)"
      ],
      "metadata": {
        "colab": {
          "base_uri": "https://localhost:8080/"
        },
        "id": "d-h7s25meMFX",
        "outputId": "2a4da7cb-1ed6-4db2-a193-bbea2d0b1067"
      },
      "execution_count": 5,
      "outputs": [
        {
          "output_type": "stream",
          "name": "stdout",
          "text": [
            "total:  7\n",
            "difference:  1\n",
            "product:  12\n",
            "division:  1.0\n",
            "remainder:  1\n"
          ]
        }
      ]
    },
    {
      "cell_type": "code",
      "source": [
        "# Calculating area of a rectangle\n",
        "length = 10\n",
        "width = 20\n",
        "area_of_rectangle = length * width\n",
        "print('Area of rectangle:', area_of_rectangle)\n",
        "\n",
        "# Calculating a weight of an object\n",
        "mass = 75\n",
        "gravity = 9.81\n",
        "weight = mass * gravity\n",
        "print(weight, 'N')"
      ],
      "metadata": {
        "colab": {
          "base_uri": "https://localhost:8080/"
        },
        "id": "aiARoAEbeMCq",
        "outputId": "0989c174-135a-4df0-a5f2-018cb3c4f5c4"
      },
      "execution_count": 6,
      "outputs": [
        {
          "output_type": "stream",
          "name": "stdout",
          "text": [
            "Area of rectangle: 200\n",
            "735.75 N\n"
          ]
        }
      ]
    },
    {
      "cell_type": "code",
      "source": [
        "print(total) # if you don't label your print with some string, you never know from where is  the result is coming\n",
        "print('a + b = ', total)\n",
        "print('a - b = ', diff)\n",
        "print('a * b = ', product)\n",
        "print('a / b = ', division)\n",
        "print('a % b = ', remainder)\n",
        "print('a // b = ', floor_division)\n",
        "print('a ** b = ', exponential)"
      ],
      "metadata": {
        "colab": {
          "base_uri": "https://localhost:8080/"
        },
        "id": "NW1NQ-cLeMAM",
        "outputId": "84037342-34c0-4d51-ce90-90541f3deef5"
      },
      "execution_count": 7,
      "outputs": [
        {
          "output_type": "stream",
          "name": "stdout",
          "text": [
            "7\n",
            "a + b =  7\n",
            "a - b =  1\n",
            "a * b =  12\n",
            "a / b =  1.5\n",
            "a % b =  1\n",
            "a // b =  1\n",
            "a ** b =  9\n"
          ]
        }
      ]
    },
    {
      "cell_type": "code",
      "source": [
        "print(3 > 2)     # True, because 3 is greater than 2\n",
        "print(3 >= 2)    # True, because 3 is greater than 2\n",
        "print(3 < 2)     # False,  because 3 is greater than 2\n",
        "print(2 < 3)     # True, because 2 is less than 3\n",
        "print(2 <= 3)    # True, because 2 is less than 3\n",
        "print(3 == 2)    # False, because 3 is not equal to 2\n",
        "print(3 != 2)    # True, because 3 is not equal to 2\n",
        "print(len('mango') == len('grapes'))  # False\n",
        "print(len('mango') != len('grapes'))  # True\n",
        "print(len('mango') < len('grapes'))   # True\n",
        "print(len('milk') != len('eggs'))      # False\n",
        "print(len('milk') == len('eggs'))      # True\n",
        "print(len('tomato') == len('potato'))  # True\n",
        "print(len('python') > len('snakes'))   # False"
      ],
      "metadata": {
        "colab": {
          "base_uri": "https://localhost:8080/"
        },
        "id": "PeDcnCCReL9t",
        "outputId": "a06ad76d-f5a6-4484-9010-8f51f62cf261"
      },
      "execution_count": 8,
      "outputs": [
        {
          "output_type": "stream",
          "name": "stdout",
          "text": [
            "True\n",
            "True\n",
            "False\n",
            "True\n",
            "True\n",
            "False\n",
            "True\n",
            "False\n",
            "True\n",
            "True\n",
            "False\n",
            "True\n",
            "True\n",
            "False\n"
          ]
        }
      ]
    },
    {
      "cell_type": "code",
      "source": [
        "# Boolean comparison\n",
        "print('True == True: ', True == True)\n",
        "print('True == False: ', True == False)\n",
        "print('False == False:', False == False)\n",
        "print('True and True: ', True and True)\n",
        "print('True or False:', True or False)\n"
      ],
      "metadata": {
        "colab": {
          "base_uri": "https://localhost:8080/"
        },
        "id": "fFpUNrMzeL7C",
        "outputId": "5a9e8b63-80fc-4bf8-d549-6c4198a7c9cb"
      },
      "execution_count": 9,
      "outputs": [
        {
          "output_type": "stream",
          "name": "stdout",
          "text": [
            "True == True:  True\n",
            "True == False:  False\n",
            "False == False: True\n",
            "True and True:  True\n",
            "True or False: True\n"
          ]
        }
      ]
    },
    {
      "cell_type": "code",
      "source": [
        "# Another way comparison\n",
        "print('1 is 1', 1 is 1)                   # True - because the data values are the same\n",
        "print('1 is not 2', 1 is not 2)           # True - because 1 is not 2\n",
        "print('A in Asabeneh', 'A' in 'Asabeneh') # True - A found in the string\n",
        "print('B in Asabeneh', 'B' in 'Asabeneh') # False -there is no uppercase B\n",
        "print('coding' in 'coding for all') # True - because coding for all has the word coding\n",
        "print('a in an:', 'a' in 'an')      # True\n",
        "print('4 is 2 ** 2:', 4 is 2 ** 2)   # True\n"
      ],
      "metadata": {
        "colab": {
          "base_uri": "https://localhost:8080/"
        },
        "id": "rf1uXvRMeL4V",
        "outputId": "b41a7398-0b34-40ac-ed25-fabf764d5edf"
      },
      "execution_count": 10,
      "outputs": [
        {
          "output_type": "stream",
          "name": "stdout",
          "text": [
            "1 is 1 True\n",
            "1 is not 2 True\n",
            "A in Asabeneh True\n",
            "B in Asabeneh False\n",
            "True\n",
            "a in an: True\n",
            "4 is 2 ** 2: True\n"
          ]
        },
        {
          "output_type": "stream",
          "name": "stderr",
          "text": [
            "<>:2: SyntaxWarning: \"is\" with a literal. Did you mean \"==\"?\n",
            "<>:3: SyntaxWarning: \"is not\" with a literal. Did you mean \"!=\"?\n",
            "<>:8: SyntaxWarning: \"is\" with a literal. Did you mean \"==\"?\n",
            "<>:2: SyntaxWarning: \"is\" with a literal. Did you mean \"==\"?\n",
            "<>:3: SyntaxWarning: \"is not\" with a literal. Did you mean \"!=\"?\n",
            "<>:8: SyntaxWarning: \"is\" with a literal. Did you mean \"==\"?\n",
            "<ipython-input-10-e81c14ac4f2e>:2: SyntaxWarning: \"is\" with a literal. Did you mean \"==\"?\n",
            "  print('1 is 1', 1 is 1)                   # True - because the data values are the same\n",
            "<ipython-input-10-e81c14ac4f2e>:3: SyntaxWarning: \"is not\" with a literal. Did you mean \"!=\"?\n",
            "  print('1 is not 2', 1 is not 2)           # True - because 1 is not 2\n",
            "<ipython-input-10-e81c14ac4f2e>:8: SyntaxWarning: \"is\" with a literal. Did you mean \"==\"?\n",
            "  print('4 is 2 ** 2:', 4 is 2 ** 2)   # True\n"
          ]
        }
      ]
    },
    {
      "cell_type": "code",
      "source": [
        "print(3 > 2 and 4 > 3) # True - because both statements are true\n",
        "print(3 > 2 and 4 < 3) # False - because the second statement is false\n",
        "print(3 < 2 and 4 < 3) # False - because both statements are false\n",
        "print(3 > 2 or 4 > 3)  # True - because both statements are true\n",
        "print(3 > 2 or 4 < 3)  # True - because one of the statement is true\n",
        "print(3 < 2 or 4 < 3)  # False - because both statements are false\n",
        "print(not 3 > 2)     # False - because 3 > 2 is true, then not True gives False\n",
        "print(not True)      # False - Negation, the not operator turns true to false\n",
        "print(not False)     # True\n",
        "print(not not True)  # True\n",
        "print(not not False) # False"
      ],
      "metadata": {
        "colab": {
          "base_uri": "https://localhost:8080/"
        },
        "id": "zvTmTYupeL1n",
        "outputId": "f59a49cb-c118-49d5-e9d7-b849177543b8"
      },
      "execution_count": 11,
      "outputs": [
        {
          "output_type": "stream",
          "name": "stdout",
          "text": [
            "True\n",
            "False\n",
            "False\n",
            "True\n",
            "True\n",
            "False\n",
            "False\n",
            "False\n",
            "True\n",
            "True\n",
            "False\n"
          ]
        }
      ]
    },
    {
      "cell_type": "code",
      "source": [],
      "metadata": {
        "id": "errJ32IReLyn"
      },
      "execution_count": 11,
      "outputs": []
    }
  ]
}