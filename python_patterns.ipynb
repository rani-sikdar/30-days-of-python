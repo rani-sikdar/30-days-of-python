{
  "nbformat": 4,
  "nbformat_minor": 0,
  "metadata": {
    "colab": {
      "provenance": [],
      "authorship_tag": "ABX9TyPwDLk3vXBGhc3vJVa9npKb",
      "include_colab_link": true
    },
    "kernelspec": {
      "name": "python3",
      "display_name": "Python 3"
    },
    "language_info": {
      "name": "python"
    }
  },
  "cells": [
    {
      "cell_type": "markdown",
      "metadata": {
        "id": "view-in-github",
        "colab_type": "text"
      },
      "source": [
        "<a href=\"https://colab.research.google.com/github/rani-sikdar/30-days-of-python/blob/main/python_patterns.ipynb\" target=\"_parent\"><img src=\"https://colab.research.google.com/assets/colab-badge.svg\" alt=\"Open In Colab\"/></a>"
      ]
    },
    {
      "cell_type": "code",
      "source": [
        "print(\"Hello World!\")"
      ],
      "metadata": {
        "colab": {
          "base_uri": "https://localhost:8080/"
        },
        "id": "E5YK36Ue_N8M",
        "outputId": "c65c982a-2f93-4733-b5f5-0d26ee4ccb42"
      },
      "execution_count": 1,
      "outputs": [
        {
          "output_type": "stream",
          "name": "stdout",
          "text": [
            "Hello World!\n"
          ]
        }
      ]
    },
    {
      "cell_type": "code",
      "execution_count": 2,
      "metadata": {
        "colab": {
          "base_uri": "https://localhost:8080/"
        },
        "id": "9qlhx3C4julz",
        "outputId": "f845e564-eabe-4a7b-da81-6b187185ad8e"
      },
      "outputs": [
        {
          "output_type": "stream",
          "name": "stdout",
          "text": [
            "*\n",
            "**\n",
            "***\n",
            "****\n",
            "*****\n"
          ]
        }
      ],
      "source": [
        "# *\n",
        "# * *\n",
        "# * * *\n",
        "# * * * *\n",
        "# * * * * *\n",
        "\n",
        "n=5\n",
        "for i in range (1, n+1):\n",
        "  print('*' * i)"
      ]
    },
    {
      "cell_type": "code",
      "source": [
        "# * * * * *\n",
        "# * * * *\n",
        "# * * *\n",
        "# * *\n",
        "# *\n",
        "\n",
        "n=5\n",
        "for i in range(n,0,-1):\n",
        "  print('*'* i)"
      ],
      "metadata": {
        "colab": {
          "base_uri": "https://localhost:8080/"
        },
        "id": "Tmw4jA42mc2k",
        "outputId": "f385fb5d-ac4d-40e1-b883-700170233469"
      },
      "execution_count": 3,
      "outputs": [
        {
          "output_type": "stream",
          "name": "stdout",
          "text": [
            "*****\n",
            "****\n",
            "***\n",
            "**\n",
            "*\n"
          ]
        }
      ]
    },
    {
      "cell_type": "code",
      "source": [
        "#         *\n",
        "#       * *\n",
        "#     * * *\n",
        "#   * * * *\n",
        "# * * * * *\n",
        "\n",
        "n=5\n",
        "for i in range(1, n+1):\n",
        "  print(\"  \" * (n - i) + \"* \" * i)"
      ],
      "metadata": {
        "colab": {
          "base_uri": "https://localhost:8080/"
        },
        "id": "RO3XRsKwmc5M",
        "outputId": "995c41fe-0ff9-4f5d-c4af-cadf466e6214"
      },
      "execution_count": 4,
      "outputs": [
        {
          "output_type": "stream",
          "name": "stdout",
          "text": [
            "        * \n",
            "      * * \n",
            "    * * * \n",
            "  * * * * \n",
            "* * * * * \n"
          ]
        }
      ]
    },
    {
      "cell_type": "code",
      "source": [
        "#       *\n",
        "#     * * *\n",
        "#   * * * * *\n",
        "# * * * * * * *\n",
        "\n",
        "n=5\n",
        "for i in range(1, n+1):\n",
        "  print(\"  \" * (n - i) + \"* \" * (2*i - 1))"
      ],
      "metadata": {
        "colab": {
          "base_uri": "https://localhost:8080/"
        },
        "id": "NMipod08mc8J",
        "outputId": "17fbe3e4-12ab-4041-e1af-f781119c77d7"
      },
      "execution_count": 5,
      "outputs": [
        {
          "output_type": "stream",
          "name": "stdout",
          "text": [
            "        * \n",
            "      * * * \n",
            "    * * * * * \n",
            "  * * * * * * * \n",
            "* * * * * * * * * \n"
          ]
        }
      ]
    },
    {
      "cell_type": "code",
      "source": [
        "  #     *\n",
        "  #   * * *\n",
        "  # * * * * *\n",
        "  #   * * *\n",
        "  #     *\n",
        "\n",
        "n = 4\n",
        "for i in range(1, n+1):\n",
        "    print(\"  \" * (n - i) + \"* \" * (2*i - 1))\n",
        "for i in range(n-1, 0, -1):\n",
        "    print(\"  \" * (n - i) + \"* \" * (2*i - 1))"
      ],
      "metadata": {
        "colab": {
          "base_uri": "https://localhost:8080/"
        },
        "id": "UIJ5OQE5tKR2",
        "outputId": "1082cc57-05e7-4f3d-aaaa-34f44f4fd864"
      },
      "execution_count": 6,
      "outputs": [
        {
          "output_type": "stream",
          "name": "stdout",
          "text": [
            "      * \n",
            "    * * * \n",
            "  * * * * * \n",
            "* * * * * * * \n",
            "  * * * * * \n",
            "    * * * \n",
            "      * \n"
          ]
        }
      ]
    },
    {
      "cell_type": "code",
      "source": [
        "# 1\n",
        "# 1 2\n",
        "# 1 2 3\n",
        "# 1 2 3 4\n",
        "# 1 2 3 4 5\n",
        "\n",
        "n=5\n",
        "for i in range (1, n+1):\n",
        "  for j in range(1, i+1):\n",
        "    print(j, end=\" \")\n",
        "  print()\n"
      ],
      "metadata": {
        "colab": {
          "base_uri": "https://localhost:8080/"
        },
        "id": "8plAQon_mc-y",
        "outputId": "8a5cf3f6-4cb8-41f6-a38a-fb2788bf50fa"
      },
      "execution_count": 7,
      "outputs": [
        {
          "output_type": "stream",
          "name": "stdout",
          "text": [
            "1 \n",
            "1 2 \n",
            "1 2 3 \n",
            "1 2 3 4 \n",
            "1 2 3 4 5 \n"
          ]
        }
      ]
    },
    {
      "cell_type": "code",
      "source": [
        "# 1\n",
        "# 2 3\n",
        "# 4 5 6\n",
        "# 7 8 9 10\n",
        "# 11 12 13 14 15\n",
        "\n",
        "n = 5\n",
        "num = 1\n",
        "for i in range(1, n+1):\n",
        "    for j in range(i):\n",
        "        print(num, end=\" \")\n",
        "        num += 1\n",
        "    print()"
      ],
      "metadata": {
        "colab": {
          "base_uri": "https://localhost:8080/"
        },
        "id": "dNosQth8mdBn",
        "outputId": "5894b2dd-cd94-4381-afb9-887173fd10ff"
      },
      "execution_count": 8,
      "outputs": [
        {
          "output_type": "stream",
          "name": "stdout",
          "text": [
            "1 \n",
            "2 3 \n",
            "4 5 6 \n",
            "7 8 9 10 \n",
            "11 12 13 14 15 \n"
          ]
        }
      ]
    },
    {
      "cell_type": "code",
      "source": [
        "#      1\n",
        "#     1 2\n",
        "#    1 2 3\n",
        "#   1 2 3 4\n",
        "#  1 2 3 4 5\n",
        "\n",
        "n=5\n",
        "for i in range(1, n+1):\n",
        "    print(\" \" * (n - i), end=\"\")\n",
        "    for j in range(1, i+1):\n",
        "        print(j, end=\" \")\n",
        "    print()"
      ],
      "metadata": {
        "colab": {
          "base_uri": "https://localhost:8080/"
        },
        "id": "xUfRQhJXmdEd",
        "outputId": "afe0a060-8182-4079-988a-8650052fd63a"
      },
      "execution_count": 9,
      "outputs": [
        {
          "output_type": "stream",
          "name": "stdout",
          "text": [
            "    1 \n",
            "   1 2 \n",
            "  1 2 3 \n",
            " 1 2 3 4 \n",
            "1 2 3 4 5 \n"
          ]
        }
      ]
    },
    {
      "cell_type": "code",
      "source": [
        "# 1\n",
        "# 0 1\n",
        "# 1 0 1\n",
        "# 0 1 0 1\n",
        "# 1 0 1 0 1\n",
        "\n",
        "n=5\n",
        "for i in range(1, n+1):\n",
        "    for j in range(i):\n",
        "        print((i + j) % 2, end=\" \")\n",
        "    print()"
      ],
      "metadata": {
        "colab": {
          "base_uri": "https://localhost:8080/"
        },
        "id": "Mdt2WKdimdHa",
        "outputId": "f63c92be-062a-47ac-84c4-27ff1462f103"
      },
      "execution_count": 10,
      "outputs": [
        {
          "output_type": "stream",
          "name": "stdout",
          "text": [
            "1 \n",
            "0 1 \n",
            "1 0 1 \n",
            "0 1 0 1 \n",
            "1 0 1 0 1 \n"
          ]
        }
      ]
    },
    {
      "cell_type": "code",
      "source": [
        "  # pascal traingle\n",
        "  #      1\n",
        "  #     1 1\n",
        "  #    1 2 1\n",
        "  #   1 3 3 1\n",
        "  #  1 4 6 4 1\n",
        "\n",
        "def factorial(n):\n",
        "    return 1 if n == 0 else n * factorial(n-1)\n",
        "\n",
        "n = 5\n",
        "for i in range(n):\n",
        "    print(\" \" * (n - i), end=\"\")\n",
        "    for j in range(i + 1):\n",
        "        print(factorial(i) // (factorial(j) * factorial(i - j)), end=\" \")\n",
        "    print()\n"
      ],
      "metadata": {
        "colab": {
          "base_uri": "https://localhost:8080/"
        },
        "id": "LeA-sVjzmdKj",
        "outputId": "9f65fdf9-ae32-468e-8a34-aaa160725550"
      },
      "execution_count": 11,
      "outputs": [
        {
          "output_type": "stream",
          "name": "stdout",
          "text": [
            "     1 \n",
            "    1 1 \n",
            "   1 2 1 \n",
            "  1 3 3 1 \n",
            " 1 4 6 4 1 \n"
          ]
        }
      ]
    },
    {
      "cell_type": "code",
      "source": [
        "# Butterfly pattern\n",
        "# *       *\n",
        "# * *     * *\n",
        "# * * *   * * *\n",
        "# * * * * * * *\n",
        "# * * * * * * *\n",
        "# * * *   * * *\n",
        "# * *     * *\n",
        "# *       *\n",
        "\n",
        "n = 5\n",
        "for i in range(1, n+1):\n",
        "    print(\"* \" * i + \"  \" * (2*(n-i)) + \"* \" * i)\n",
        "for i in range(n, 0, -1):\n",
        "    print(\"* \" * i + \"  \" * (2*(n-i)) + \"* \" * i)\n"
      ],
      "metadata": {
        "colab": {
          "base_uri": "https://localhost:8080/"
        },
        "id": "4J6wHMOymdOG",
        "outputId": "1312857f-aa31-4608-d1ec-7870cf9ec49a"
      },
      "execution_count": 12,
      "outputs": [
        {
          "output_type": "stream",
          "name": "stdout",
          "text": [
            "*                 * \n",
            "* *             * * \n",
            "* * *         * * * \n",
            "* * * *     * * * * \n",
            "* * * * * * * * * * \n",
            "* * * * * * * * * * \n",
            "* * * *     * * * * \n",
            "* * *         * * * \n",
            "* *             * * \n",
            "*                 * \n"
          ]
        }
      ]
    },
    {
      "cell_type": "code",
      "source": [
        "print(5)\n",
        "print(5)"
      ],
      "metadata": {
        "id": "M0Sg3FtrvwvX",
        "outputId": "b16eeb1b-21cd-435f-c353-8dc72f2b1633",
        "colab": {
          "base_uri": "https://localhost:8080/"
        }
      },
      "execution_count": 13,
      "outputs": [
        {
          "output_type": "stream",
          "name": "stdout",
          "text": [
            "5\n",
            "5\n"
          ]
        }
      ]
    },
    {
      "cell_type": "code",
      "source": [],
      "metadata": {
        "id": "aVqHc4FWa8xt"
      },
      "execution_count": 13,
      "outputs": []
    }
  ]
}