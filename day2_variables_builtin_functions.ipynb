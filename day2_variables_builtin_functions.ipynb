{
  "nbformat": 4,
  "nbformat_minor": 0,
  "metadata": {
    "colab": {
      "provenance": [],
      "authorship_tag": "ABX9TyO1girAzE1IIrpdoZydZ1Dc",
      "include_colab_link": true
    },
    "kernelspec": {
      "name": "python3",
      "display_name": "Python 3"
    },
    "language_info": {
      "name": "python"
    }
  },
  "cells": [
    {
      "cell_type": "markdown",
      "metadata": {
        "id": "view-in-github",
        "colab_type": "text"
      },
      "source": [
        "<a href=\"https://colab.research.google.com/github/rani-sikdar/30-days-of-python/blob/main/day2_variables_builtin_functions.ipynb\" target=\"_parent\"><img src=\"https://colab.research.google.com/assets/colab-badge.svg\" alt=\"Open In Colab\"/></a>"
      ]
    },
    {
      "cell_type": "code",
      "source": [
        "# Introduction\n",
        "\n",
        "print(3 + 2)   # addition(+)\n",
        "print(3 - 2)   # subtraction(-)\n",
        "print(3 * 2)   # multiplication(*)\n",
        "print(3 / 2)   # division(/)\n",
        "print(3 ** 2)  # exponential(**)\n",
        "print(3 % 2)   # modulus(%)\n",
        "print(3 // 2)  # Floor division operator(//)\n",
        "\n",
        "# Checking data types\n",
        "\n",
        "print(type(10))                  # Int\n",
        "print(type(3.14))                # Float\n",
        "print(type(1 + 3j))              # Complex\n",
        "print(type('Asabeneh'))          # String\n",
        "print(type([1, 2, 3]))           # List\n",
        "print(type({'name':'Asabeneh'})) # Dictionary\n",
        "print(type({9.8, 3.14, 2.7}))    # Set\n",
        "print(type((9.8, 3.14, 2.7)))    # Tuple\n",
        "print(type(3 == 3))              # Bool\n",
        "print(type(3 >= 3))              # Bool"
      ],
      "metadata": {
        "colab": {
          "base_uri": "https://localhost:8080/"
        },
        "id": "xlW8O0nlAfHB",
        "outputId": "dabc343d-9948-4b41-9187-a87084c3396e"
      },
      "execution_count": 35,
      "outputs": [
        {
          "output_type": "stream",
          "name": "stdout",
          "text": [
            "5\n",
            "1\n",
            "6\n",
            "1.5\n",
            "9\n",
            "1\n",
            "1\n",
            "<class 'int'>\n",
            "<class 'float'>\n",
            "<class 'complex'>\n",
            "<class 'str'>\n",
            "<class 'list'>\n",
            "<class 'dict'>\n",
            "<class 'set'>\n",
            "<class 'tuple'>\n",
            "<class 'bool'>\n",
            "<class 'bool'>\n"
          ]
        }
      ]
    },
    {
      "cell_type": "code",
      "source": [
        "# Variables in Python\n",
        "\n",
        "first_name = 'Rani'\n",
        "last_name = 'Sikdar'\n",
        "country = 'India'\n",
        "city = 'Gurgaon'\n",
        "age = 25\n",
        "is_married = False\n",
        "skills = ['Python', 'Statistics', 'SQL', 'AI', 'NLP']\n",
        "person_info = {\n",
        "    'firstname':'Rani',\n",
        "    'lastname':'Sikdar',\n",
        "    'country':'India',\n",
        "    'city':'Gurgaon'\n",
        "    }\n",
        "\n",
        "# Printing the values stored in the variables\n",
        "\n",
        "print('First name:', first_name)\n",
        "print('First name length:', len(first_name))\n",
        "print('Last name: ', last_name)\n",
        "print('Last name length: ', len(last_name))\n",
        "print('Country: ', country)\n",
        "print('City: ', city)\n",
        "print('Age: ', age)\n",
        "print('Married: ', is_married)\n",
        "print('Skills: ', skills)\n",
        "print('Person information: ', person_info)\n",
        "\n",
        "# Declaring multiple variables in one line\n",
        "\n",
        "first_name, last_name, country, age, is_married = 'Rani', 'Sikdar', 'India', 25, False\n",
        "\n",
        "print(first_name, last_name, country, age, is_married)\n",
        "print('First name:', first_name)\n",
        "print('Last name: ', last_name)\n",
        "print('Country: ', country)\n",
        "print('Age: ', age)\n",
        "print('Married: ', is_married)"
      ],
      "metadata": {
        "colab": {
          "base_uri": "https://localhost:8080/"
        },
        "id": "DIbmgk3Q2YWR",
        "outputId": "e5e5acc4-210f-471b-961f-9f07ccd48e3b"
      },
      "execution_count": 36,
      "outputs": [
        {
          "output_type": "stream",
          "name": "stdout",
          "text": [
            "First name: Rani\n",
            "First name length: 4\n",
            "Last name:  Sikdar\n",
            "Last name length:  6\n",
            "Country:  India\n",
            "City:  Gurgaon\n",
            "Age:  25\n",
            "Married:  False\n",
            "Skills:  ['Python', 'Statistics', 'SQL', 'AI', 'NLP']\n",
            "Person information:  {'firstname': 'Rani', 'lastname': 'Sikdar', 'country': 'India', 'city': 'Gurgaon'}\n",
            "Rani Sikdar India 25 False\n",
            "First name: Rani\n",
            "Last name:  Sikdar\n",
            "Country:  India\n",
            "Age:  25\n",
            "Married:  False\n"
          ]
        }
      ]
    },
    {
      "cell_type": "code",
      "source": [
        "# 1. Swap Two Variables Without Using a Third Variable\n",
        "a= 5\n",
        "b= 10\n",
        "\n",
        "print('before swapping - ', a,b)\n",
        "\n",
        "a,b = b,a\n",
        "print('after swapping - ', a,b)"
      ],
      "metadata": {
        "colab": {
          "base_uri": "https://localhost:8080/"
        },
        "id": "DpMCv2Ud2YZz",
        "outputId": "24798900-ef34-4396-a3a0-923781acb595"
      },
      "execution_count": 37,
      "outputs": [
        {
          "output_type": "stream",
          "name": "stdout",
          "text": [
            "before swapping -  5 10\n",
            "after swapping -  10 5\n"
          ]
        }
      ]
    },
    {
      "cell_type": "code",
      "source": [
        "# 2. Calculate Simple Interest\n",
        "P = 1000\n",
        "R = 5\n",
        "T = 2\n",
        "\n",
        "SI = (P * R * T)/100\n",
        "\n",
        "print(\"Simple Interest - \", SI)"
      ],
      "metadata": {
        "colab": {
          "base_uri": "https://localhost:8080/"
        },
        "id": "vQPJiCtS2Yc0",
        "outputId": "a66ef6dd-aed6-4269-9035-d3989c5de77f"
      },
      "execution_count": 38,
      "outputs": [
        {
          "output_type": "stream",
          "name": "stdout",
          "text": [
            "Simple Interest -  100.0\n"
          ]
        }
      ]
    },
    {
      "cell_type": "code",
      "source": [
        "# 3. Convert Celsius to Fahrenheit\n",
        "C = 37\n",
        "F = (C * 9/5) + 32\n",
        "\n",
        "print(\"Farheneit - \", F)"
      ],
      "metadata": {
        "colab": {
          "base_uri": "https://localhost:8080/"
        },
        "id": "Ic6lQCVe2Yfb",
        "outputId": "3fdeb5cb-5696-4ebd-aa31-4d15aa4f8323"
      },
      "execution_count": 39,
      "outputs": [
        {
          "output_type": "stream",
          "name": "stdout",
          "text": [
            "Farheneit -  98.6\n"
          ]
        }
      ]
    },
    {
      "cell_type": "code",
      "source": [
        "# 4. Compute Area and Circumference of a Circle\n",
        "from math import pi\n",
        "radius = 7\n",
        "area = pi * radius * radius\n",
        "circumference = 2 * pi * radius\n",
        "print(\"Area - \", round(area,2))\n",
        "print(\"circumference - \", round(circumference,2))"
      ],
      "metadata": {
        "colab": {
          "base_uri": "https://localhost:8080/"
        },
        "id": "r6iksgut2YiG",
        "outputId": "3f74072f-972d-449b-bbdf-b02622902949"
      },
      "execution_count": 40,
      "outputs": [
        {
          "output_type": "stream",
          "name": "stdout",
          "text": [
            "Area -  153.94\n",
            "circumference -  43.98\n"
          ]
        }
      ]
    },
    {
      "cell_type": "code",
      "source": [
        "# 5. Check Whether a Number is Even or Odd\n",
        "n = 6\n",
        "if (n % 2 == 0): result = 'Even'\n",
        "else : result ='Odd'\n",
        "\n",
        "print('Even or Odd ? ', result)"
      ],
      "metadata": {
        "colab": {
          "base_uri": "https://localhost:8080/"
        },
        "id": "CO7bu_hP2YlI",
        "outputId": "8bf6968e-d143-4df7-b094-3d6fe4359d40"
      },
      "execution_count": 41,
      "outputs": [
        {
          "output_type": "stream",
          "name": "stdout",
          "text": [
            "Even or Odd ?  Even\n"
          ]
        }
      ]
    },
    {
      "cell_type": "code",
      "source": [
        "# 6. Calculate the Sum and Average of a List\n",
        "numbers = [10, 20, 30, 40, 50]\n",
        "sum =0\n",
        "for i in numbers:\n",
        "  sum += i\n",
        "\n",
        "average = sum / len(numbers)\n",
        "print(\"sum is - \", sum)\n",
        "print(\"average is - \", int(average))"
      ],
      "metadata": {
        "colab": {
          "base_uri": "https://localhost:8080/"
        },
        "id": "1Vz2lm332YoW",
        "outputId": "691fae6d-6814-44c3-8a40-7e61d0cd1e7d"
      },
      "execution_count": 42,
      "outputs": [
        {
          "output_type": "stream",
          "name": "stdout",
          "text": [
            "sum is -  150\n",
            "average is -  30\n"
          ]
        }
      ]
    },
    {
      "cell_type": "code",
      "source": [
        "# 7. Reverse a String Using Built-in Functions\n",
        "s = \"Python\"\n",
        "r = \"\".join(reversed(s))\n",
        "print(r)\n",
        "print(\"Reverse is - \", r)"
      ],
      "metadata": {
        "colab": {
          "base_uri": "https://localhost:8080/"
        },
        "id": "OcdspXJW2YrQ",
        "outputId": "e121760f-118a-4219-d1e3-3d7bfb530ac9"
      },
      "execution_count": 43,
      "outputs": [
        {
          "output_type": "stream",
          "name": "stdout",
          "text": [
            "nohtyP\n",
            "Reverse is -  nohtyP\n"
          ]
        }
      ]
    },
    {
      "cell_type": "code",
      "source": [
        "# 8. Count Number of Vowels in a String\n",
        "sentence = \"Hellou wOrldei\"\n",
        "sentence= sentence.lower()\n",
        "vowel = ['a','e','i','o','u']\n",
        "count=0\n",
        "\n",
        "for s in sentence:\n",
        "  if s in vowel: count += 1\n",
        "\n",
        "print(\"number of vowels - \",count)"
      ],
      "metadata": {
        "colab": {
          "base_uri": "https://localhost:8080/"
        },
        "id": "6HxPHkDp2Ytw",
        "outputId": "01b59998-f4b3-46b6-9564-674820163ee8"
      },
      "execution_count": 44,
      "outputs": [
        {
          "output_type": "stream",
          "name": "stdout",
          "text": [
            "number of vowels -  6\n"
          ]
        }
      ]
    },
    {
      "cell_type": "code",
      "source": [
        "# 9. Sort a List of Integers in Descending Order\n",
        "nums = [3, 1, 4, 1, 5, 9, 2]\n",
        "nums.sort()\n",
        "nums.reverse()\n",
        "print(\"List in desending order - \",nums)"
      ],
      "metadata": {
        "colab": {
          "base_uri": "https://localhost:8080/"
        },
        "id": "dxrKIobS2Ywp",
        "outputId": "8c963371-e9a9-4c92-e50e-0ae8f5fed41c"
      },
      "execution_count": 45,
      "outputs": [
        {
          "output_type": "stream",
          "name": "stdout",
          "text": [
            "List in desending order -  [9, 5, 4, 3, 2, 1, 1]\n"
          ]
        }
      ]
    },
    {
      "cell_type": "code",
      "source": [
        "# 10. Find the Maximum and Minimum of Three Numbers\n",
        "a, b, c = 10, 25, 17\n",
        "\n",
        "max_value = max(a,b,c)\n",
        "min_value = min(a,b,c)\n",
        "\n",
        "print(\"Max:\", max_value)\n",
        "print(\"Min:\", min_value)"
      ],
      "metadata": {
        "colab": {
          "base_uri": "https://localhost:8080/"
        },
        "id": "n8qGKQiH2Yzq",
        "outputId": "1f3633b1-6782-4067-f83d-c7433117c0cb"
      },
      "execution_count": 46,
      "outputs": [
        {
          "output_type": "stream",
          "name": "stdout",
          "text": [
            "Max: 25\n",
            "Min: 10\n"
          ]
        }
      ]
    },
    {
      "cell_type": "code",
      "source": [
        "# 11. Count the Frequency of Each Character in a String (Ignore Spaces)\n",
        "\n",
        "sentence = \"data science\"\n",
        "sentence = sentence.replace(\" \", \"\").lower()\n",
        "\n",
        "char_freq=dict()\n",
        "# Loop through each character and count frequencies\n",
        "for s in sentence:\n",
        "  char_freq[s] = char_freq.get(s,0) + 1\n",
        "  \"\"\"\n",
        "  char_freq.get(s, 0) tries to get the current count of character s from the dictionary.\n",
        "\n",
        "  If s is already in the dictionary, it returns the existing count.\n",
        "\n",
        "  If s is not yet in the dictionary, it returns 0 (the default value you provided).\n",
        "\n",
        "  Then it adds 1 to this count.\n",
        "\n",
        "  Finally, it assigns the new value back to char_freq[s], updating the dictionary.\n",
        "  \"\"\"\n",
        "\n",
        "print(char_freq)"
      ],
      "metadata": {
        "colab": {
          "base_uri": "https://localhost:8080/"
        },
        "id": "26yIukI92Y2W",
        "outputId": "00cb06ae-95c7-4190-bfbe-e1ebfea42c6c"
      },
      "execution_count": 47,
      "outputs": [
        {
          "output_type": "stream",
          "name": "stdout",
          "text": [
            "{'d': 1, 'a': 2, 't': 1, 's': 1, 'c': 2, 'i': 1, 'e': 2, 'n': 1}\n"
          ]
        }
      ]
    },
    {
      "cell_type": "code",
      "source": [],
      "metadata": {
        "id": "AarCPkIz2Y5e"
      },
      "execution_count": 47,
      "outputs": []
    },
    {
      "cell_type": "code",
      "source": [],
      "metadata": {
        "id": "BZTFtadg2Y7-"
      },
      "execution_count": 47,
      "outputs": []
    }
  ]
}