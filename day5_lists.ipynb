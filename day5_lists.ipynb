{
  "nbformat": 4,
  "nbformat_minor": 0,
  "metadata": {
    "colab": {
      "provenance": [],
      "authorship_tag": "ABX9TyPSmwGs8YAiMOvaBJYpTWnR",
      "include_colab_link": true
    },
    "kernelspec": {
      "name": "python3",
      "display_name": "Python 3"
    },
    "language_info": {
      "name": "python"
    }
  },
  "cells": [
    {
      "cell_type": "markdown",
      "metadata": {
        "id": "view-in-github",
        "colab_type": "text"
      },
      "source": [
        "<a href=\"https://colab.research.google.com/github/rani-sikdar/30-days-of-python/blob/main/day5_lists.ipynb\" target=\"_parent\"><img src=\"https://colab.research.google.com/assets/colab-badge.svg\" alt=\"Open In Colab\"/></a>"
      ]
    },
    {
      "cell_type": "code",
      "source": [
        "empty_list = list() # this is an empty list, no item in the list\n",
        "print(len(empty_list)) # 0\n",
        "\n",
        "fruits = ['banana', 'orange', 'mango', 'lemon']                     # list of fruits\n",
        "vegetables = ['Tomato', 'Potato', 'Cabbage','Onion', 'Carrot']      # list of vegetables\n",
        "animal_products = ['milk', 'meat', 'butter', 'yoghurt']             # list of animal products\n",
        "web_techs = ['HTML', 'CSS', 'JS', 'React','Redux', 'Node', 'MongDB'] # list of web technologies\n",
        "countries = ['Finland', 'Estonia', 'Denmark', 'Sweden', 'Norway']"
      ],
      "metadata": {
        "colab": {
          "base_uri": "https://localhost:8080/"
        },
        "id": "ZoNY7etGidaZ",
        "outputId": "8f6dfb4f-b570-46db-820c-52e462bd6625"
      },
      "execution_count": 1,
      "outputs": [
        {
          "output_type": "stream",
          "name": "stdout",
          "text": [
            "0\n"
          ]
        }
      ]
    },
    {
      "cell_type": "code",
      "source": [
        "# Print the lists and it length\n",
        "print('Fruits:', fruits)\n",
        "print('Number of fruits:', len(fruits))\n",
        "print('Vegetables:', vegetables)\n",
        "print('Number of vegetables:', len(vegetables))\n",
        "print('Animal products:',animal_products)\n",
        "print('Number of animal products:', len(animal_products))\n",
        "print('Web technologies:', web_techs)\n",
        "print('Number of web technologies:', len(web_techs))\n",
        "print('Number of countries:', len(countries))"
      ],
      "metadata": {
        "colab": {
          "base_uri": "https://localhost:8080/"
        },
        "id": "eC8_8_7-imv0",
        "outputId": "5fb32cb3-6c4b-4f25-b62c-8313253df684"
      },
      "execution_count": 2,
      "outputs": [
        {
          "output_type": "stream",
          "name": "stdout",
          "text": [
            "Fruits: ['banana', 'orange', 'mango', 'lemon']\n",
            "Number of fruits: 4\n",
            "Vegetables: ['Tomato', 'Potato', 'Cabbage', 'Onion', 'Carrot']\n",
            "Number of vegetables: 5\n",
            "Animal products: ['milk', 'meat', 'butter', 'yoghurt']\n",
            "Number of animal products: 4\n",
            "Web technologies: ['HTML', 'CSS', 'JS', 'React', 'Redux', 'Node', 'MongDB']\n",
            "Number of web technologies: 7\n",
            "Number of countries: 5\n"
          ]
        }
      ]
    },
    {
      "cell_type": "code",
      "source": [
        "# Modifying list\n",
        "\n",
        "fruits = ['banana', 'orange', 'mango', 'lemon']\n",
        "first_fruit = fruits[0] # we are accessing the first item using its index\n",
        "print(first_fruit)      # banana\n",
        "second_fruit = fruits[1]\n",
        "print(second_fruit)     # orange\n",
        "last_fruit = fruits[3]\n",
        "print(last_fruit) # lemon"
      ],
      "metadata": {
        "colab": {
          "base_uri": "https://localhost:8080/"
        },
        "id": "513Mxe1LivbT",
        "outputId": "823cc462-ec7b-4a00-c089-8e5f2253770b"
      },
      "execution_count": 3,
      "outputs": [
        {
          "output_type": "stream",
          "name": "stdout",
          "text": [
            "banana\n",
            "orange\n",
            "lemon\n"
          ]
        }
      ]
    },
    {
      "cell_type": "code",
      "source": [
        "# Last index\n",
        "last_index = len(fruits) - 1\n",
        "last_fruit = fruits[last_index]\n",
        "\n",
        "# Accessing items\n",
        "fruits = ['banana', 'orange', 'mango', 'lemon']\n",
        "last_fruit = fruits[-1]\n",
        "second_last = fruits[-2]\n",
        "print(last_fruit)       # lemon\n",
        "print(second_last)      # mango"
      ],
      "metadata": {
        "colab": {
          "base_uri": "https://localhost:8080/"
        },
        "id": "S7Zeg79vixwn",
        "outputId": "36d8458e-466e-48f9-8084-35bc78c619b0"
      },
      "execution_count": 6,
      "outputs": [
        {
          "output_type": "stream",
          "name": "stdout",
          "text": [
            "lemon\n",
            "mango\n"
          ]
        }
      ]
    },
    {
      "cell_type": "code",
      "source": [
        "# Slicing items\n",
        "fruits = ['banana', 'orange', 'mango', 'lemon']\n",
        "all_fruits = fruits[0:4] # it returns all the fruits\n",
        "# this is also give the same result as the above\n",
        "all_fruits = fruits[0:] # if we don't set where to stop it takes all the rest\n",
        "orange_and_mango = fruits[1:3] # it does not include the end index\n",
        "orange_mango_lemon = fruits[1:]\n",
        "\n",
        "fruits = ['banana', 'orange', 'mango', 'lemon']\n",
        "all_fruits = fruits[-4:] # it returns all the fruits\n",
        "# this is also give the same result as the above\n",
        "orange_and_mango = fruits[-3:-1] # it does not include the end index\n",
        "orange_mango_lemon = fruits[-3:]\n"
      ],
      "metadata": {
        "id": "9owsp2GTi4kA"
      },
      "execution_count": 8,
      "outputs": []
    },
    {
      "cell_type": "code",
      "source": [
        "fruits = ['banana', 'orange', 'mango', 'lemon']\n",
        "fruits[0] = 'Avocado'\n",
        "print(fruits)       #  ['avocado', 'orange', 'mango', 'lemon']\n",
        "fruits[1] = 'apple'\n",
        "print(fruits)       #  ['avocado', 'apple', 'mango', 'lemon']\n",
        "last_index = len(fruits) - 1\n",
        "fruits[last_index] = 'lime'\n",
        "print(fruits)        #  ['avocado', 'apple', 'mango', 'lime']"
      ],
      "metadata": {
        "colab": {
          "base_uri": "https://localhost:8080/"
        },
        "id": "guewWRz2i-r8",
        "outputId": "7a81bfe8-a4b5-4c06-8a89-2cd423ee2f06"
      },
      "execution_count": 9,
      "outputs": [
        {
          "output_type": "stream",
          "name": "stdout",
          "text": [
            "['Avocado', 'orange', 'mango', 'lemon']\n",
            "['Avocado', 'apple', 'mango', 'lemon']\n",
            "['Avocado', 'apple', 'mango', 'lime']\n"
          ]
        }
      ]
    },
    {
      "cell_type": "code",
      "source": [
        "# checking items\n",
        "fruits = ['banana', 'orange', 'mango', 'lemon']\n",
        "does_exist = 'banana' in fruits\n",
        "print(does_exist)  # True\n",
        "does_exist = 'lime' in fruits\n",
        "print(does_exist)  # False"
      ],
      "metadata": {
        "colab": {
          "base_uri": "https://localhost:8080/"
        },
        "id": "8yIoHhqRjAxh",
        "outputId": "b73f252f-f7fe-4b5d-c221-4f913a012812"
      },
      "execution_count": 10,
      "outputs": [
        {
          "output_type": "stream",
          "name": "stdout",
          "text": [
            "True\n",
            "False\n"
          ]
        }
      ]
    },
    {
      "cell_type": "code",
      "source": [
        "# Append\n",
        "fruits = ['banana', 'orange', 'mango', 'lemon']\n",
        "fruits.append('apple')\n",
        "print(fruits)           # ['banana', 'orange', 'mango', 'lemon', 'apple']\n",
        "fruits.append('lime')   # ['banana', 'orange', 'mango', 'lemon', 'apple', 'lime]\n",
        "print(fruits)"
      ],
      "metadata": {
        "colab": {
          "base_uri": "https://localhost:8080/"
        },
        "id": "f_bD3nwyjCkh",
        "outputId": "e97c59b5-a3cc-4fc4-8f97-5097f26ec00e"
      },
      "execution_count": 11,
      "outputs": [
        {
          "output_type": "stream",
          "name": "stdout",
          "text": [
            "['banana', 'orange', 'mango', 'lemon', 'apple']\n",
            "['banana', 'orange', 'mango', 'lemon', 'apple', 'lime']\n"
          ]
        }
      ]
    },
    {
      "cell_type": "code",
      "source": [
        "# insert\n",
        "fruits = ['banana', 'orange', 'mango', 'lemon']\n",
        "fruits.insert(2, 'apple') # insert apple between orange and mango\n",
        "print(fruits)           # ['banana', 'orange', 'apple', 'mango', 'lemon']\n",
        "fruits.insert(3, 'lime')   # ['banana', 'orange', 'apple', 'mango', 'lime','lemon',]\n",
        "print(fruits)\n"
      ],
      "metadata": {
        "colab": {
          "base_uri": "https://localhost:8080/"
        },
        "id": "ChjI0OWmjXS1",
        "outputId": "3a13945f-37bd-4998-db2f-ad9bd33f1c3c"
      },
      "execution_count": 12,
      "outputs": [
        {
          "output_type": "stream",
          "name": "stdout",
          "text": [
            "['banana', 'orange', 'apple', 'mango', 'lemon']\n",
            "['banana', 'orange', 'apple', 'lime', 'mango', 'lemon']\n"
          ]
        }
      ]
    },
    {
      "cell_type": "code",
      "source": [
        "# remove\n",
        "fruits = ['banana', 'orange', 'mango', 'lemon']\n",
        "fruits.remove('banana')\n",
        "print(fruits)  # ['orange', 'mango', 'lemon']\n",
        "fruits.remove('lemon')\n",
        "print(fruits)  # ['orange', 'mango']"
      ],
      "metadata": {
        "colab": {
          "base_uri": "https://localhost:8080/"
        },
        "id": "6B1Ql33xjZLW",
        "outputId": "cdcca3a8-a59e-4e91-bab0-c6a09a349f5c"
      },
      "execution_count": 13,
      "outputs": [
        {
          "output_type": "stream",
          "name": "stdout",
          "text": [
            "['orange', 'mango', 'lemon']\n",
            "['orange', 'mango']\n"
          ]
        }
      ]
    },
    {
      "cell_type": "code",
      "source": [
        "# pop\n",
        "fruits = ['banana', 'orange', 'mango', 'lemon']\n",
        "fruits.pop()\n",
        "print(fruits)       # ['banana', 'orange', 'mango']\n",
        "\n",
        "fruits.pop(0)\n",
        "print(fruits)       # ['orange', 'mango']"
      ],
      "metadata": {
        "colab": {
          "base_uri": "https://localhost:8080/"
        },
        "id": "FHkH6OTBjbaA",
        "outputId": "7147b7fa-9142-46a6-9110-bf55041a03a7"
      },
      "execution_count": 14,
      "outputs": [
        {
          "output_type": "stream",
          "name": "stdout",
          "text": [
            "['banana', 'orange', 'mango']\n",
            "['orange', 'mango']\n"
          ]
        }
      ]
    },
    {
      "cell_type": "code",
      "source": [
        "# del\n",
        "fruits = ['banana', 'orange', 'mango', 'lemon']\n",
        "del fruits[0]\n",
        "print(fruits)       # ['orange', 'mango', 'lemon']\n",
        "\n",
        "del fruits[1]\n",
        "print(fruits)       # ['orange', 'lemon']\n",
        "del fruits\n",
        "# print(fruits)       # This should give: NameError: name 'fruits' is not defined"
      ],
      "metadata": {
        "colab": {
          "base_uri": "https://localhost:8080/"
        },
        "id": "ByBHHe2MjeVH",
        "outputId": "365f76df-fc25-413d-a494-a33f7fbb0ec0"
      },
      "execution_count": 16,
      "outputs": [
        {
          "output_type": "stream",
          "name": "stdout",
          "text": [
            "['orange', 'mango', 'lemon']\n",
            "['orange', 'lemon']\n"
          ]
        }
      ]
    },
    {
      "cell_type": "code",
      "source": [
        "# clear\n",
        "fruits = ['banana', 'orange', 'mango', 'lemon']\n",
        "fruits.clear()\n",
        "print(fruits)       # []\n",
        "\n",
        "# copying a lits\n",
        "\n",
        "fruits = ['banana', 'orange', 'mango', 'lemon']\n",
        "fruits_copy = fruits.copy()\n",
        "print(fruits_copy)       # ['banana', 'orange', 'mango', 'lemon']"
      ],
      "metadata": {
        "colab": {
          "base_uri": "https://localhost:8080/"
        },
        "id": "ybtfCncWji1r",
        "outputId": "fd8af33b-606a-4ef9-bc94-90d48fa9b12d"
      },
      "execution_count": 17,
      "outputs": [
        {
          "output_type": "stream",
          "name": "stdout",
          "text": [
            "[]\n",
            "['banana', 'orange', 'mango', 'lemon']\n"
          ]
        }
      ]
    },
    {
      "cell_type": "code",
      "source": [
        "# join\n",
        "positive_numbers = [1, 2, 3,4,5]\n",
        "zero = [0]\n",
        "negative_numbers = [-5,-4,-3,-2,-1]\n",
        "integers = negative_numbers + zero + positive_numbers\n",
        "print(integers)\n",
        "fruits = ['banana', 'orange', 'mango', 'lemon']\n",
        "vegetables = ['Tomato', 'Potato', 'Cabbage','Onion', 'Carrot']\n",
        "fruits_and_vegetables = fruits + vegetables\n",
        "print(fruits_and_vegetables )"
      ],
      "metadata": {
        "colab": {
          "base_uri": "https://localhost:8080/"
        },
        "id": "uCnzUJPsjqIt",
        "outputId": "3b4495af-31d7-4dbd-a092-43dce710936d"
      },
      "execution_count": 18,
      "outputs": [
        {
          "output_type": "stream",
          "name": "stdout",
          "text": [
            "[-5, -4, -3, -2, -1, 0, 1, 2, 3, 4, 5]\n",
            "['banana', 'orange', 'mango', 'lemon', 'Tomato', 'Potato', 'Cabbage', 'Onion', 'Carrot']\n"
          ]
        }
      ]
    },
    {
      "cell_type": "code",
      "source": [
        "# join with extend\n",
        "num1 = [0, 1, 2, 3]\n",
        "num2= [4, 5,6]\n",
        "num1.extend(num2)\n",
        "print('Numbers:', num1)\n",
        "negative_numbers = [-5,-4,-3,-2,-1]\n",
        "positive_numbers = [1, 2, 3,4,5]\n",
        "zero = [0]\n",
        "\n",
        "negative_numbers.extend(zero)\n",
        "negative_numbers.extend(positive_numbers)\n",
        "print('Integers:', negative_numbers)\n",
        "fruits = ['banana', 'orange', 'mango', 'lemon']\n",
        "vegetables = ['Tomato', 'Potato', 'Cabbage','Onion', 'Carrot']\n",
        "fruits.extend(vegetables)\n",
        "print('Fruits and vegetables:', fruits )"
      ],
      "metadata": {
        "colab": {
          "base_uri": "https://localhost:8080/"
        },
        "id": "zEeoK8bBjtWk",
        "outputId": "00ad5094-2106-4d49-f706-02d949ba77fe"
      },
      "execution_count": 19,
      "outputs": [
        {
          "output_type": "stream",
          "name": "stdout",
          "text": [
            "Numbers: [0, 1, 2, 3, 4, 5, 6]\n",
            "Integers: [-5, -4, -3, -2, -1, 0, 1, 2, 3, 4, 5]\n",
            "Fruits and vegetables: ['banana', 'orange', 'mango', 'lemon', 'Tomato', 'Potato', 'Cabbage', 'Onion', 'Carrot']\n"
          ]
        }
      ]
    },
    {
      "cell_type": "code",
      "source": [
        "# count\n",
        "fruits = ['banana', 'orange', 'mango', 'lemon']\n",
        "print(fruits.count('orange'))   # 1\n",
        "ages = [22, 19, 24, 25, 26, 24, 25, 24]\n",
        "print(ages.count(24))           # 3"
      ],
      "metadata": {
        "colab": {
          "base_uri": "https://localhost:8080/"
        },
        "id": "c0OF0p0ujvT7",
        "outputId": "c80d1506-6c0c-4c2f-c8f9-e20e408d262f"
      },
      "execution_count": 21,
      "outputs": [
        {
          "output_type": "stream",
          "name": "stdout",
          "text": [
            "1\n",
            "3\n"
          ]
        }
      ]
    },
    {
      "cell_type": "code",
      "source": [
        "# index\n",
        "fruits = ['banana', 'orange', 'mango', 'lemon']\n",
        "print(fruits.index('orange'))   # 1\n",
        "ages = [22, 19, 24, 25, 26, 24, 25, 24]\n",
        "print(ages.index(24))"
      ],
      "metadata": {
        "colab": {
          "base_uri": "https://localhost:8080/"
        },
        "id": "4uSCx5UAjxsZ",
        "outputId": "a2e7a972-f000-4343-f6e0-3707d4ebecc2"
      },
      "execution_count": 22,
      "outputs": [
        {
          "output_type": "stream",
          "name": "stdout",
          "text": [
            "1\n",
            "2\n"
          ]
        }
      ]
    },
    {
      "cell_type": "code",
      "source": [
        "# Reverse\n",
        "fruits = ['banana', 'orange', 'mango', 'lemon']\n",
        "fruits.reverse()\n",
        "print(fruits)\n",
        "ages = [22, 19, 24, 25, 26, 24, 25, 24]\n",
        "ages.reverse()\n",
        "print(ages)"
      ],
      "metadata": {
        "colab": {
          "base_uri": "https://localhost:8080/"
        },
        "id": "qxnQmtzOjzWs",
        "outputId": "b7da87b6-f2c6-4c1c-fee6-674dd88fc249"
      },
      "execution_count": 23,
      "outputs": [
        {
          "output_type": "stream",
          "name": "stdout",
          "text": [
            "['lemon', 'mango', 'orange', 'banana']\n",
            "[24, 25, 24, 26, 25, 24, 19, 22]\n"
          ]
        }
      ]
    },
    {
      "cell_type": "code",
      "execution_count": 24,
      "metadata": {
        "colab": {
          "base_uri": "https://localhost:8080/"
        },
        "id": "eGciMpgKhjuK",
        "outputId": "224a8b69-fb62-4228-c789-a72cb588b27e"
      },
      "outputs": [
        {
          "output_type": "stream",
          "name": "stdout",
          "text": [
            "['banana', 'lemon', 'mango', 'orange']\n",
            "['orange', 'mango', 'lemon', 'banana']\n",
            "[19, 22, 24, 24, 24, 25, 25, 26]\n",
            "[26, 25, 25, 24, 24, 24, 22, 19]\n"
          ]
        }
      ],
      "source": [
        "# sort\n",
        "fruits = ['banana', 'orange', 'mango', 'lemon']\n",
        "fruits.sort()\n",
        "print(fruits)\n",
        "fruits.sort(reverse=True)\n",
        "print(fruits)\n",
        "ages = [22, 19, 24, 25, 26, 24, 25, 24]\n",
        "ages.sort()\n",
        "print(ages)\n",
        "ages.sort(reverse=True)\n",
        "print(ages)"
      ]
    }
  ]
}