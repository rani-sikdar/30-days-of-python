{
  "nbformat": 4,
  "nbformat_minor": 0,
  "metadata": {
    "colab": {
      "provenance": [],
      "authorship_tag": "ABX9TyORcNeNcGg/aCYUuQiaUPJ9",
      "include_colab_link": true
    },
    "kernelspec": {
      "name": "python3",
      "display_name": "Python 3"
    },
    "language_info": {
      "name": "python"
    }
  },
  "cells": [
    {
      "cell_type": "markdown",
      "metadata": {
        "id": "view-in-github",
        "colab_type": "text"
      },
      "source": [
        "<a href=\"https://colab.research.google.com/github/rani-sikdar/30-days-of-python/blob/main/day5_lists.ipynb\" target=\"_parent\"><img src=\"https://colab.research.google.com/assets/colab-badge.svg\" alt=\"Open In Colab\"/></a>"
      ]
    },
    {
      "cell_type": "code",
      "source": [
        "empty_list = list() # this is an empty list, no item in the list\n",
        "print(len(empty_list)) # 0"
      ],
      "metadata": {
        "colab": {
          "base_uri": "https://localhost:8080/"
        },
        "id": "P80ZaQSix8qZ",
        "outputId": "e0db22d1-6d32-41f6-e518-37a4a95a1454"
      },
      "execution_count": 1,
      "outputs": [
        {
          "output_type": "stream",
          "name": "stdout",
          "text": [
            "0\n"
          ]
        }
      ]
    },
    {
      "cell_type": "code",
      "source": [
        "fruits = ['banana', 'orange', 'mango', 'lemon']                     # list of fruits\n",
        "vegetables = ['Tomato', 'Potato', 'Cabbage','Onion', 'Carrot']      # list of vegetables\n",
        "animal_products = ['milk', 'meat', 'butter', 'yoghurt']             # list of animal products\n",
        "web_techs = ['HTML', 'CSS', 'JS', 'React','Redux', 'Node', 'MongDB'] # list of web technologies\n",
        "countries = ['Finland', 'Estonia', 'Denmark', 'Sweden', 'Norway']"
      ],
      "metadata": {
        "id": "rwnmhElWx-ZO"
      },
      "execution_count": 2,
      "outputs": []
    },
    {
      "cell_type": "code",
      "source": [
        "# Print the lists and it length\n",
        "print('Fruits:', fruits)\n",
        "print('Number of fruits:', len(fruits))\n",
        "print('Vegetables:', vegetables)\n",
        "print('Number of vegetables:', len(vegetables))\n",
        "print('Animal products:',animal_products)\n",
        "print('Number of animal products:', len(animal_products))\n",
        "print('Web technologies:', web_techs)\n",
        "print('Number of web technologies:', len(web_techs))\n",
        "print('Number of countries:', len(countries))"
      ],
      "metadata": {
        "colab": {
          "base_uri": "https://localhost:8080/"
        },
        "id": "aq4aGNW8yBu0",
        "outputId": "f5c219b3-874c-4f9d-faf7-7096b58d24b1"
      },
      "execution_count": 3,
      "outputs": [
        {
          "output_type": "stream",
          "name": "stdout",
          "text": [
            "Fruits: ['banana', 'orange', 'mango', 'lemon']\n",
            "Number of fruits: 4\n",
            "Vegetables: ['Tomato', 'Potato', 'Cabbage', 'Onion', 'Carrot']\n",
            "Number of vegetables: 5\n",
            "Animal products: ['milk', 'meat', 'butter', 'yoghurt']\n",
            "Number of animal products: 4\n",
            "Web technologies: ['HTML', 'CSS', 'JS', 'React', 'Redux', 'Node', 'MongDB']\n",
            "Number of web technologies: 7\n",
            "Number of countries: 5\n"
          ]
        }
      ]
    },
    {
      "cell_type": "code",
      "source": [
        "# Modifying list\n",
        "\n",
        "fruits = ['banana', 'orange', 'mango', 'lemon']\n",
        "first_fruit = fruits[0] # we are accessing the first item using its index\n",
        "print(first_fruit)      # banana\n",
        "second_fruit = fruits[1]\n",
        "print(second_fruit)     # orange\n",
        "last_fruit = fruits[3]\n",
        "print(last_fruit) # lemon\n",
        "# Last index\n",
        "last_index = len(fruits) - 1\n",
        "last_fruit = fruits[last_index]"
      ],
      "metadata": {
        "colab": {
          "base_uri": "https://localhost:8080/"
        },
        "id": "wjNkVHoPyEWs",
        "outputId": "dbfc175b-9c90-4397-f0ff-36afe96f7aff"
      },
      "execution_count": 4,
      "outputs": [
        {
          "output_type": "stream",
          "name": "stdout",
          "text": [
            "banana\n",
            "orange\n",
            "lemon\n"
          ]
        }
      ]
    },
    {
      "cell_type": "code",
      "source": [
        "# Accessing items\n",
        "fruits = ['banana', 'orange', 'mango', 'lemon']\n",
        "last_fruit = fruits[-1]\n",
        "second_last = fruits[-2]\n",
        "print(last_fruit)       # lemon\n",
        "print(second_last)      # mango"
      ],
      "metadata": {
        "colab": {
          "base_uri": "https://localhost:8080/"
        },
        "id": "kAx2ic2yyKL3",
        "outputId": "21b3827e-5e28-41dc-9bc0-72aed85eb3cd"
      },
      "execution_count": 5,
      "outputs": [
        {
          "output_type": "stream",
          "name": "stdout",
          "text": [
            "lemon\n",
            "mango\n"
          ]
        }
      ]
    },
    {
      "cell_type": "code",
      "source": [
        "# Slicing items\n",
        "fruits = ['banana', 'orange', 'mango', 'lemon']\n",
        "all_fruits = fruits[0:4] # it returns all the fruits\n",
        "# this is also give the same result as the above\n",
        "all_fruits = fruits[0:] # if we don't set where to stop it takes all the rest\n",
        "orange_and_mango = fruits[1:3] # it does not include the end index\n",
        "orange_mango_lemon = fruits[1:]"
      ],
      "metadata": {
        "id": "4J-UBOd0yMbf"
      },
      "execution_count": 6,
      "outputs": []
    },
    {
      "cell_type": "code",
      "source": [
        "fruits = ['banana', 'orange', 'mango', 'lemon']\n",
        "all_fruits = fruits[-4:] # it returns all the fruits\n",
        "# this is also give the same result as the above\n",
        "orange_and_mango = fruits[-3:-1] # it does not include the end index\n",
        "orange_mango_lemon = fruits[-3:]"
      ],
      "metadata": {
        "id": "xCbadV0uyQ1Y"
      },
      "execution_count": 7,
      "outputs": []
    },
    {
      "cell_type": "code",
      "source": [
        "fruits = ['banana', 'orange', 'mango', 'lemon']\n",
        "fruits[0] = 'Avocado'\n",
        "print(fruits)       #  ['avocado', 'orange', 'mango', 'lemon']\n",
        "fruits[1] = 'apple'\n",
        "print(fruits)       #  ['avocado', 'apple', 'mango', 'lemon']\n",
        "last_index = len(fruits) - 1\n",
        "fruits[last_index] = 'lime'\n",
        "print(fruits)        #  ['avocado', 'apple', 'mango', 'lime']"
      ],
      "metadata": {
        "colab": {
          "base_uri": "https://localhost:8080/"
        },
        "id": "_z4oKcrvyTOJ",
        "outputId": "53c7b74b-0c2d-4ecf-ce06-de73e60947ab"
      },
      "execution_count": 8,
      "outputs": [
        {
          "output_type": "stream",
          "name": "stdout",
          "text": [
            "['Avocado', 'orange', 'mango', 'lemon']\n",
            "['Avocado', 'apple', 'mango', 'lemon']\n",
            "['Avocado', 'apple', 'mango', 'lime']\n"
          ]
        }
      ]
    },
    {
      "cell_type": "code",
      "source": [
        "# checking items\n",
        "fruits = ['banana', 'orange', 'mango', 'lemon']\n",
        "does_exist = 'banana' in fruits\n",
        "print(does_exist)  # True\n",
        "does_exist = 'lime' in fruits\n",
        "print(does_exist)  # False"
      ],
      "metadata": {
        "colab": {
          "base_uri": "https://localhost:8080/"
        },
        "id": "j_jKuDlkyVEm",
        "outputId": "3221f410-7fec-4850-8d0e-f3e76f836a21"
      },
      "execution_count": 9,
      "outputs": [
        {
          "output_type": "stream",
          "name": "stdout",
          "text": [
            "True\n",
            "False\n"
          ]
        }
      ]
    },
    {
      "cell_type": "code",
      "source": [
        "# Append\n",
        "fruits = ['banana', 'orange', 'mango', 'lemon']\n",
        "fruits.append('apple')\n",
        "print(fruits)           # ['banana', 'orange', 'mango', 'lemon', 'apple']\n",
        "fruits.append('lime')   # ['banana', 'orange', 'mango', 'lemon', 'apple', 'lime]\n",
        "print(fruits)"
      ],
      "metadata": {
        "colab": {
          "base_uri": "https://localhost:8080/"
        },
        "id": "n2ur1DRVyaSk",
        "outputId": "0fe54bc5-487f-4611-cfeb-2c66757ec89b"
      },
      "execution_count": 10,
      "outputs": [
        {
          "output_type": "stream",
          "name": "stdout",
          "text": [
            "['banana', 'orange', 'mango', 'lemon', 'apple']\n",
            "['banana', 'orange', 'mango', 'lemon', 'apple', 'lime']\n"
          ]
        }
      ]
    },
    {
      "cell_type": "code",
      "source": [
        "# insert\n",
        "fruits = ['banana', 'orange', 'mango', 'lemon']\n",
        "fruits.insert(2, 'apple') # insert apple between orange and mango\n",
        "print(fruits)           # ['banana', 'orange', 'apple', 'mango', 'lemon']\n",
        "fruits.insert(3, 'lime')   # ['banana', 'orange', 'apple', 'mango', 'lime','lemon',]\n",
        "print(fruits)"
      ],
      "metadata": {
        "colab": {
          "base_uri": "https://localhost:8080/"
        },
        "id": "au6GcAnWycPI",
        "outputId": "beb1c130-d078-43a6-8824-49aab7e707f7"
      },
      "execution_count": 11,
      "outputs": [
        {
          "output_type": "stream",
          "name": "stdout",
          "text": [
            "['banana', 'orange', 'apple', 'mango', 'lemon']\n",
            "['banana', 'orange', 'apple', 'lime', 'mango', 'lemon']\n"
          ]
        }
      ]
    },
    {
      "cell_type": "code",
      "source": [
        "# remove\n",
        "fruits = ['banana', 'orange', 'mango', 'lemon']\n",
        "fruits.remove('banana')\n",
        "print(fruits)  # ['orange', 'mango', 'lemon']\n",
        "fruits.remove('lemon')\n",
        "print(fruits)  # ['orange', 'mango']"
      ],
      "metadata": {
        "colab": {
          "base_uri": "https://localhost:8080/"
        },
        "id": "YZFF4xpHyfYC",
        "outputId": "6a018f39-52b6-4347-e2df-9743cd0eeeb0"
      },
      "execution_count": 12,
      "outputs": [
        {
          "output_type": "stream",
          "name": "stdout",
          "text": [
            "['orange', 'mango', 'lemon']\n",
            "['orange', 'mango']\n"
          ]
        }
      ]
    },
    {
      "cell_type": "code",
      "source": [
        "# pop\n",
        "fruits = ['banana', 'orange', 'mango', 'lemon']\n",
        "fruits.pop()\n",
        "print(fruits)       # ['banana', 'orange', 'mango']\n",
        "\n",
        "fruits.pop(0)\n",
        "print(fruits)       # ['orange', 'mango']\n",
        "\n",
        "# del\n",
        "fruits = ['banana', 'orange', 'mango', 'lemon']\n",
        "del fruits[0]\n",
        "print(fruits)       # ['orange', 'mango', 'lemon']\n",
        "\n",
        "del fruits[1]\n",
        "print(fruits)       # ['orange', 'lemon']\n",
        "del fruits\n",
        "# print(fruits)       # This should give: NameError: name 'fruits' is not defined"
      ],
      "metadata": {
        "colab": {
          "base_uri": "https://localhost:8080/"
        },
        "id": "IMXbPQUdylME",
        "outputId": "7d32e9ea-3192-4cec-89be-add0af07ced3"
      },
      "execution_count": 14,
      "outputs": [
        {
          "output_type": "stream",
          "name": "stdout",
          "text": [
            "['banana', 'orange', 'mango']\n",
            "['orange', 'mango']\n",
            "['orange', 'mango', 'lemon']\n",
            "['orange', 'lemon']\n"
          ]
        }
      ]
    },
    {
      "cell_type": "code",
      "source": [
        "# clear\n",
        "fruits = ['banana', 'orange', 'mango', 'lemon']\n",
        "fruits.clear()\n",
        "print(fruits)       # []\n",
        "\n",
        "# copying a lits\n",
        "\n",
        "fruits = ['banana', 'orange', 'mango', 'lemon']\n",
        "fruits_copy = fruits.copy()\n",
        "print(fruits_copy)       # ['banana', 'orange', 'mango', 'lemon']"
      ],
      "metadata": {
        "colab": {
          "base_uri": "https://localhost:8080/"
        },
        "id": "G8QtqPUjyqWw",
        "outputId": "d1fa38bf-f044-459b-ebe9-5d777cc284d6"
      },
      "execution_count": 15,
      "outputs": [
        {
          "output_type": "stream",
          "name": "stdout",
          "text": [
            "[]\n",
            "['banana', 'orange', 'mango', 'lemon']\n"
          ]
        }
      ]
    },
    {
      "cell_type": "code",
      "source": [
        "# join\n",
        "positive_numbers = [1, 2, 3,4,5]\n",
        "zero = [0]\n",
        "negative_numbers = [-5,-4,-3,-2,-1]\n",
        "integers = negative_numbers + zero + positive_numbers\n",
        "print(integers)\n",
        "fruits = ['banana', 'orange', 'mango', 'lemon']\n",
        "vegetables = ['Tomato', 'Potato', 'Cabbage','Onion', 'Carrot']\n",
        "fruits_and_vegetables = fruits + vegetables\n",
        "print(fruits_and_vegetables )"
      ],
      "metadata": {
        "colab": {
          "base_uri": "https://localhost:8080/"
        },
        "id": "rKE6yxG-ytPe",
        "outputId": "ee1a61a3-0ad3-4527-a799-f33e956f5045"
      },
      "execution_count": 16,
      "outputs": [
        {
          "output_type": "stream",
          "name": "stdout",
          "text": [
            "[-5, -4, -3, -2, -1, 0, 1, 2, 3, 4, 5]\n",
            "['banana', 'orange', 'mango', 'lemon', 'Tomato', 'Potato', 'Cabbage', 'Onion', 'Carrot']\n"
          ]
        }
      ]
    },
    {
      "cell_type": "code",
      "source": [
        "# join with extend\n",
        "num1 = [0, 1, 2, 3]\n",
        "num2= [4, 5,6]\n",
        "num1.extend(num2)\n",
        "print('Numbers:', num1)\n",
        "negative_numbers = [-5,-4,-3,-2,-1]\n",
        "positive_numbers = [1, 2, 3,4,5]\n",
        "zero = [0]\n",
        "\n",
        "negative_numbers.extend(zero)\n",
        "negative_numbers.extend(positive_numbers)\n",
        "print('Integers:', negative_numbers)\n",
        "fruits = ['banana', 'orange', 'mango', 'lemon']\n",
        "vegetables = ['Tomato', 'Potato', 'Cabbage','Onion', 'Carrot']\n",
        "fruits.extend(vegetables)\n",
        "print('Fruits and vegetables:', fruits )"
      ],
      "metadata": {
        "colab": {
          "base_uri": "https://localhost:8080/"
        },
        "id": "aT19mOL8ywgv",
        "outputId": "b384bec9-8ecc-47e0-f218-18f47b002a38"
      },
      "execution_count": 17,
      "outputs": [
        {
          "output_type": "stream",
          "name": "stdout",
          "text": [
            "Numbers: [0, 1, 2, 3, 4, 5, 6]\n",
            "Integers: [-5, -4, -3, -2, -1, 0, 1, 2, 3, 4, 5]\n",
            "Fruits and vegetables: ['banana', 'orange', 'mango', 'lemon', 'Tomato', 'Potato', 'Cabbage', 'Onion', 'Carrot']\n"
          ]
        }
      ]
    },
    {
      "cell_type": "code",
      "source": [
        "# count\n",
        "fruits = ['banana', 'orange', 'mango', 'lemon']\n",
        "print(fruits.count('orange'))   # 1\n",
        "ages = [22, 19, 24, 25, 26, 24, 25, 24]\n",
        "print(ages.count(24))           # 3"
      ],
      "metadata": {
        "colab": {
          "base_uri": "https://localhost:8080/"
        },
        "id": "1tmjsugZyykc",
        "outputId": "83066280-a780-451c-efac-5a3438f57d6e"
      },
      "execution_count": 18,
      "outputs": [
        {
          "output_type": "stream",
          "name": "stdout",
          "text": [
            "1\n",
            "3\n"
          ]
        }
      ]
    },
    {
      "cell_type": "code",
      "source": [
        "# index\n",
        "fruits = ['banana', 'orange', 'mango', 'lemon']\n",
        "print(fruits.index('orange'))   # 1\n",
        "ages = [22, 19, 24, 25, 26, 24, 25, 24]\n",
        "print(ages.index(24))"
      ],
      "metadata": {
        "colab": {
          "base_uri": "https://localhost:8080/"
        },
        "id": "u5iyitYBy0tD",
        "outputId": "278ead4d-dc6e-4da3-aa5e-d60c1575ec61"
      },
      "execution_count": 19,
      "outputs": [
        {
          "output_type": "stream",
          "name": "stdout",
          "text": [
            "1\n",
            "2\n"
          ]
        }
      ]
    },
    {
      "cell_type": "code",
      "source": [
        "# Reverse\n",
        "fruits = ['banana', 'orange', 'mango', 'lemon']\n",
        "fruits.reverse()\n",
        "print(fruits)\n",
        "ages = [22, 19, 24, 25, 26, 24, 25, 24]\n",
        "ages.reverse()\n",
        "print(ages)"
      ],
      "metadata": {
        "colab": {
          "base_uri": "https://localhost:8080/"
        },
        "id": "0giyN7-ky2mk",
        "outputId": "a4175341-e799-481b-9772-98aad823b318"
      },
      "execution_count": 20,
      "outputs": [
        {
          "output_type": "stream",
          "name": "stdout",
          "text": [
            "['lemon', 'mango', 'orange', 'banana']\n",
            "[24, 25, 24, 26, 25, 24, 19, 22]\n"
          ]
        }
      ]
    },
    {
      "cell_type": "code",
      "execution_count": 21,
      "metadata": {
        "colab": {
          "base_uri": "https://localhost:8080/"
        },
        "id": "FbkNCxV4x47g",
        "outputId": "d2502214-9c36-498f-8007-57e13fd50fe8"
      },
      "outputs": [
        {
          "output_type": "stream",
          "name": "stdout",
          "text": [
            "['banana', 'lemon', 'mango', 'orange']\n",
            "['orange', 'mango', 'lemon', 'banana']\n",
            "[19, 22, 24, 24, 24, 25, 25, 26]\n",
            "[26, 25, 25, 24, 24, 24, 22, 19]\n"
          ]
        }
      ],
      "source": [
        "# sort\n",
        "fruits = ['banana', 'orange', 'mango', 'lemon']\n",
        "fruits.sort()\n",
        "print(fruits)\n",
        "fruits.sort(reverse=True)\n",
        "print(fruits)\n",
        "ages = [22, 19, 24, 25, 26, 24, 25, 24]\n",
        "ages.sort()\n",
        "print(ages)\n",
        "ages.sort(reverse=True)\n",
        "print(ages)"
      ]
    }
  ]
}