{
  "nbformat": 4,
  "nbformat_minor": 0,
  "metadata": {
    "colab": {
      "provenance": [],
      "authorship_tag": "ABX9TyON6xGPQg2ed6YYnOClK+BQ",
      "include_colab_link": true
    },
    "kernelspec": {
      "name": "python3",
      "display_name": "Python 3"
    },
    "language_info": {
      "name": "python"
    }
  },
  "cells": [
    {
      "cell_type": "markdown",
      "metadata": {
        "id": "view-in-github",
        "colab_type": "text"
      },
      "source": [
        "<a href=\"https://colab.research.google.com/github/rani-sikdar/30-days-of-python/blob/main/pydsa.ipynb\" target=\"_parent\"><img src=\"https://colab.research.google.com/assets/colab-badge.svg\" alt=\"Open In Colab\"/></a>"
      ]
    },
    {
      "cell_type": "markdown",
      "source": [
        "Linear\n",
        "- Array\n",
        "- Linked list\n",
        "- Stack\n",
        "- Queue\n",
        "- Matrix\n",
        "\n",
        "Non-Linear\n",
        "- Binary Tree\n",
        "- Heap\n",
        "- Hash Table\n",
        "- Graph\n",
        "Python Specific Data Structures\n",
        "- List\n",
        "- Tuple\n",
        "- Dictionary"
      ],
      "metadata": {
        "id": "jUDnksYlk_Zc"
      }
    },
    {
      "cell_type": "markdown",
      "source": [
        "## Array\n",
        "Basic operations:\n",
        "1. Traverse\n",
        "2. Insertion\n",
        "3. Deletion\n",
        "4. Search\n",
        "5. Update"
      ],
      "metadata": {
        "id": "Fs_PJXlnmu7b"
      }
    },
    {
      "cell_type": "code",
      "execution_count": 2,
      "metadata": {
        "id": "OqS69h31hZDm"
      },
      "outputs": [],
      "source": [
        "from array import *"
      ]
    },
    {
      "cell_type": "code",
      "source": [
        "# traverse\n",
        "\n",
        "arr = array('i',[10,20,30,40,50])\n",
        "\n",
        "for a in arr:\n",
        "  print(a)"
      ],
      "metadata": {
        "colab": {
          "base_uri": "https://localhost:8080/"
        },
        "id": "wYFs7d5kivq3",
        "outputId": "5c0b0a18-1d4a-48f1-f555-e802df919bce"
      },
      "execution_count": 4,
      "outputs": [
        {
          "output_type": "stream",
          "name": "stdout",
          "text": [
            "10\n",
            "20\n",
            "30\n",
            "40\n",
            "50\n"
          ]
        }
      ]
    },
    {
      "cell_type": "code",
      "source": [
        "print(arr[0])"
      ],
      "metadata": {
        "colab": {
          "base_uri": "https://localhost:8080/"
        },
        "id": "_C77g4l4ivoj",
        "outputId": "1ee2bb2a-54ab-4dc9-86c3-b787d4236f9f"
      },
      "execution_count": 5,
      "outputs": [
        {
          "output_type": "stream",
          "name": "stdout",
          "text": [
            "10\n"
          ]
        }
      ]
    },
    {
      "cell_type": "code",
      "source": [
        "print(arr[3])"
      ],
      "metadata": {
        "colab": {
          "base_uri": "https://localhost:8080/"
        },
        "id": "Hn8oVwu6ivlE",
        "outputId": "ab03ee5b-6767-44f8-ec9d-c66f8f3e9139"
      },
      "execution_count": 8,
      "outputs": [
        {
          "output_type": "stream",
          "name": "stdout",
          "text": [
            "40\n"
          ]
        }
      ]
    },
    {
      "cell_type": "code",
      "source": [
        "print(len(arr))"
      ],
      "metadata": {
        "colab": {
          "base_uri": "https://localhost:8080/"
        },
        "id": "k_BJoIHmivh0",
        "outputId": "9ae551ec-df8a-4587-f0f2-51607ffa8f5b"
      },
      "execution_count": 9,
      "outputs": [
        {
          "output_type": "stream",
          "name": "stdout",
          "text": [
            "5\n"
          ]
        }
      ]
    },
    {
      "cell_type": "code",
      "source": [
        "# insert\n",
        "\n",
        "arr.insert(2,60)\n",
        "print(arr)"
      ],
      "metadata": {
        "colab": {
          "base_uri": "https://localhost:8080/"
        },
        "id": "6b2DBDieive0",
        "outputId": "1880d1ed-d26f-452e-9790-8e640a329e09"
      },
      "execution_count": 10,
      "outputs": [
        {
          "output_type": "stream",
          "name": "stdout",
          "text": [
            "array('i', [10, 20, 60, 30, 40, 50])\n"
          ]
        }
      ]
    },
    {
      "cell_type": "code",
      "source": [
        "arr"
      ],
      "metadata": {
        "colab": {
          "base_uri": "https://localhost:8080/"
        },
        "id": "-Gld5eWRivYG",
        "outputId": "156fdfb5-b2c6-4f1f-eb0c-195c5b91a3a2"
      },
      "execution_count": 11,
      "outputs": [
        {
          "output_type": "execute_result",
          "data": {
            "text/plain": [
              "array('i', [10, 20, 60, 30, 40, 50])"
            ]
          },
          "metadata": {},
          "execution_count": 11
        }
      ]
    },
    {
      "cell_type": "code",
      "source": [
        "# delete\n",
        "\n",
        "if 40 in arr:\n",
        "  print('yes')\n",
        "  arr.remove(40)\n",
        "  print('deletion done')"
      ],
      "metadata": {
        "colab": {
          "base_uri": "https://localhost:8080/"
        },
        "id": "a6ibph7-ivSL",
        "outputId": "e0879c24-8b41-43e6-d60c-a9cdadc81f0f"
      },
      "execution_count": 13,
      "outputs": [
        {
          "output_type": "stream",
          "name": "stdout",
          "text": [
            "yes\n",
            "deletion done\n"
          ]
        }
      ]
    },
    {
      "cell_type": "code",
      "source": [
        "arr"
      ],
      "metadata": {
        "colab": {
          "base_uri": "https://localhost:8080/"
        },
        "id": "a7LRurzlivPx",
        "outputId": "f6cd5885-a970-4f2b-ffef-d9517ba39049"
      },
      "execution_count": 14,
      "outputs": [
        {
          "output_type": "execute_result",
          "data": {
            "text/plain": [
              "array('i', [10, 20, 60, 30, 50])"
            ]
          },
          "metadata": {},
          "execution_count": 14
        }
      ]
    },
    {
      "cell_type": "code",
      "source": [
        "# search operation --> index() returns index\n",
        "\n",
        "arr.index(50)\n"
      ],
      "metadata": {
        "colab": {
          "base_uri": "https://localhost:8080/"
        },
        "id": "D8RI74phivMZ",
        "outputId": "9de10bc0-57ee-4211-fddb-1384ade25714"
      },
      "execution_count": 15,
      "outputs": [
        {
          "output_type": "execute_result",
          "data": {
            "text/plain": [
              "4"
            ]
          },
          "metadata": {},
          "execution_count": 15
        }
      ]
    },
    {
      "cell_type": "code",
      "source": [
        "arr.index(100)"
      ],
      "metadata": {
        "colab": {
          "base_uri": "https://localhost:8080/",
          "height": 150
        },
        "id": "t2A8UoLYivJ4",
        "outputId": "a575ce53-c4e4-420c-837b-cd3dc31960d0"
      },
      "execution_count": 16,
      "outputs": [
        {
          "output_type": "error",
          "ename": "ValueError",
          "evalue": "array.index(x): x not in array",
          "traceback": [
            "\u001b[0;31m---------------------------------------------------------------------------\u001b[0m",
            "\u001b[0;31mValueError\u001b[0m                                Traceback (most recent call last)",
            "\u001b[0;32m/tmp/ipython-input-2991409909.py\u001b[0m in \u001b[0;36m<cell line: 0>\u001b[0;34m()\u001b[0m\n\u001b[0;32m----> 1\u001b[0;31m \u001b[0marr\u001b[0m\u001b[0;34m.\u001b[0m\u001b[0mindex\u001b[0m\u001b[0;34m(\u001b[0m\u001b[0;36m100\u001b[0m\u001b[0;34m)\u001b[0m\u001b[0;34m\u001b[0m\u001b[0;34m\u001b[0m\u001b[0m\n\u001b[0m",
            "\u001b[0;31mValueError\u001b[0m: array.index(x): x not in array"
          ]
        }
      ]
    },
    {
      "cell_type": "code",
      "source": [
        "# update\n",
        "\n",
        "print(arr)\n",
        "\n",
        "arr[3]=80\n",
        "\n",
        "print(arr)"
      ],
      "metadata": {
        "colab": {
          "base_uri": "https://localhost:8080/"
        },
        "id": "K29-eaL9ivHM",
        "outputId": "a05dc5fd-d0bc-484d-b7de-9dca2c3d574e"
      },
      "execution_count": 18,
      "outputs": [
        {
          "output_type": "stream",
          "name": "stdout",
          "text": [
            "array('i', [10, 20, 60, 30, 50])\n",
            "array('i', [10, 20, 60, 80, 50])\n"
          ]
        }
      ]
    },
    {
      "cell_type": "markdown",
      "source": [
        "## List\n",
        "Basic Operations\n",
        "- Traverse\n",
        "- Access\n",
        "- Update\n",
        "- Delete\n",
        "- Length, Concatenation, Repetition, Membership. Iteration"
      ],
      "metadata": {
        "id": "1biFgZWUxejr"
      }
    },
    {
      "cell_type": "code",
      "source": [
        "# traverse\n",
        "\n",
        "list1 = ['rani','sikdar',19,'june',1998]\n",
        "\n",
        "for x in list1:\n",
        "  print(x)"
      ],
      "metadata": {
        "colab": {
          "base_uri": "https://localhost:8080/"
        },
        "id": "4UlgH4NoivEP",
        "outputId": "5043aa7a-e7fd-4581-f242-0c48d8c38615"
      },
      "execution_count": 1,
      "outputs": [
        {
          "output_type": "stream",
          "name": "stdout",
          "text": [
            "rani\n",
            "sikdar\n",
            "19\n",
            "june\n",
            "1998\n"
          ]
        }
      ]
    },
    {
      "cell_type": "code",
      "source": [
        "# access\n",
        "\n",
        "print(list1[2])\n",
        "print(list1[4])\n",
        "print(list1[:3])\n",
        "print(list1[:])"
      ],
      "metadata": {
        "colab": {
          "base_uri": "https://localhost:8080/"
        },
        "id": "Matobu0-ivBU",
        "outputId": "36524172-2ed1-4382-ed61-ffa6c9f0f9cc"
      },
      "execution_count": 5,
      "outputs": [
        {
          "output_type": "stream",
          "name": "stdout",
          "text": [
            "19\n",
            "1998\n",
            "['rani', 'sikdar', 19]\n",
            "['rani', 'sikdar', 19, 'june', 1998]\n"
          ]
        }
      ]
    },
    {
      "cell_type": "code",
      "source": [
        "# update\n",
        "\n",
        "print(\"before updating list-\")\n",
        "print(list1)\n",
        "\n",
        "print(\"after updating list-\")\n",
        "list1[3]='april'\n",
        "print(list1)"
      ],
      "metadata": {
        "colab": {
          "base_uri": "https://localhost:8080/"
        },
        "id": "nukly41xiu-k",
        "outputId": "e952d243-c81d-4bc9-8837-49507c851cab"
      },
      "execution_count": 6,
      "outputs": [
        {
          "output_type": "stream",
          "name": "stdout",
          "text": [
            "before updating list-\n",
            "['rani', 'sikdar', 19, 'june', 1998]\n",
            "after updating list-\n",
            "['rani', 'sikdar', 19, 'april', 1998]\n"
          ]
        }
      ]
    },
    {
      "cell_type": "code",
      "source": [
        "# delete\n",
        "\n",
        "print(\"before deleting list-\")\n",
        "print(list1)\n",
        "\n",
        "print(\"after deleting list-\")\n",
        "del list1[2]\n",
        "\n",
        "print(list1)"
      ],
      "metadata": {
        "colab": {
          "base_uri": "https://localhost:8080/"
        },
        "id": "9exq_Pv9iu7T",
        "outputId": "c558ce76-878e-45d8-ab3e-d3519b8e1e08"
      },
      "execution_count": 7,
      "outputs": [
        {
          "output_type": "stream",
          "name": "stdout",
          "text": [
            "before deleting list-\n",
            "['rani', 'sikdar', 19, 'april', 1998]\n",
            "after deleting list-\n",
            "['rani', 'sikdar', 'april', 1998]\n"
          ]
        }
      ]
    },
    {
      "cell_type": "code",
      "source": [
        "# length\n",
        "print(len(list1))"
      ],
      "metadata": {
        "colab": {
          "base_uri": "https://localhost:8080/"
        },
        "id": "Tb6iPXaHiyna",
        "outputId": "94ce57e8-a7b8-4475-c1fd-1703822b6ea2"
      },
      "execution_count": 8,
      "outputs": [
        {
          "output_type": "stream",
          "name": "stdout",
          "text": [
            "4\n"
          ]
        }
      ]
    },
    {
      "cell_type": "code",
      "source": [
        "# concatenation\n",
        "\n",
        "list1=[1,2,3,4]\n",
        "list2=[5,6,7,8]\n",
        "\n",
        "final_list= list1 + list2\n",
        "\n",
        "print(final_list)"
      ],
      "metadata": {
        "colab": {
          "base_uri": "https://localhost:8080/"
        },
        "id": "74P3GqVWi4ZB",
        "outputId": "0774fb91-7546-4194-8648-36af543e4737"
      },
      "execution_count": 9,
      "outputs": [
        {
          "output_type": "stream",
          "name": "stdout",
          "text": [
            "[1, 2, 3, 4, 5, 6, 7, 8]\n"
          ]
        }
      ]
    },
    {
      "cell_type": "code",
      "source": [
        "# repetition\n",
        "\n",
        "list3 = ['hello', \"world\"]\n",
        "\n",
        "print(list3*3)"
      ],
      "metadata": {
        "colab": {
          "base_uri": "https://localhost:8080/"
        },
        "id": "kwUWKa8mjDpm",
        "outputId": "b8edccc2-159e-4ae8-c974-74b9d3289637"
      },
      "execution_count": 10,
      "outputs": [
        {
          "output_type": "stream",
          "name": "stdout",
          "text": [
            "['hello', 'world', 'hello', 'world', 'hello', 'world']\n"
          ]
        }
      ]
    },
    {
      "cell_type": "code",
      "source": [
        "# membership\n",
        "\n",
        "'hello' in list3"
      ],
      "metadata": {
        "colab": {
          "base_uri": "https://localhost:8080/"
        },
        "id": "A_R3P0ZDjOiP",
        "outputId": "0be71498-d941-48c7-c508-639981afe8a5"
      },
      "execution_count": 12,
      "outputs": [
        {
          "output_type": "execute_result",
          "data": {
            "text/plain": [
              "True"
            ]
          },
          "metadata": {},
          "execution_count": 12
        }
      ]
    },
    {
      "cell_type": "code",
      "source": [
        "'hello' not in list3"
      ],
      "metadata": {
        "colab": {
          "base_uri": "https://localhost:8080/"
        },
        "id": "y6php9S2jXD8",
        "outputId": "fcfdd4ce-10d8-4be9-a171-f45f8474f4ab"
      },
      "execution_count": 13,
      "outputs": [
        {
          "output_type": "execute_result",
          "data": {
            "text/plain": [
              "False"
            ]
          },
          "metadata": {},
          "execution_count": 13
        }
      ]
    },
    {
      "cell_type": "code",
      "source": [
        "# iteration\n",
        "\n",
        "for x in final_list:\n",
        "  print(x)"
      ],
      "metadata": {
        "colab": {
          "base_uri": "https://localhost:8080/"
        },
        "id": "zKjhJGx0ja_g",
        "outputId": "f9378441-4cdf-4164-a2ba-7448be40476d"
      },
      "execution_count": 14,
      "outputs": [
        {
          "output_type": "stream",
          "name": "stdout",
          "text": [
            "1\n",
            "2\n",
            "3\n",
            "4\n",
            "5\n",
            "6\n",
            "7\n",
            "8\n"
          ]
        }
      ]
    },
    {
      "cell_type": "markdown",
      "source": [
        "## Tuple\n",
        "Basic Operations\n",
        "- Traverse\n",
        "- Access\n",
        "- Update\n",
        "- Delete\n",
        "- Length, Concatenation, Repetition, Membership. Iteration"
      ],
      "metadata": {
        "id": "bALP-JFck01s"
      }
    },
    {
      "cell_type": "code",
      "source": [
        "# initiation\n",
        "\n",
        "t1 = ()  # empty tuple\n",
        "print(t1)\n",
        "\n",
        "t2 = (20,)  # tuple with one element\n",
        "print(t2)"
      ],
      "metadata": {
        "colab": {
          "base_uri": "https://localhost:8080/"
        },
        "id": "NGELnTywjhq2",
        "outputId": "c8b3bd9c-1e3b-4ef5-b60d-2753d027fe6a"
      },
      "execution_count": 27,
      "outputs": [
        {
          "output_type": "stream",
          "name": "stdout",
          "text": [
            "()\n",
            "(20,)\n"
          ]
        }
      ]
    },
    {
      "cell_type": "code",
      "source": [
        "# traverse\n",
        "\n",
        "t3= ('rani','sikdar',19,'june',1998)\n",
        "\n",
        "for x in t3:\n",
        "  print(x)"
      ],
      "metadata": {
        "colab": {
          "base_uri": "https://localhost:8080/"
        },
        "id": "ebi3Kp5llT8S",
        "outputId": "3665ed5b-bab3-429c-962b-50f87c1b1805"
      },
      "execution_count": 28,
      "outputs": [
        {
          "output_type": "stream",
          "name": "stdout",
          "text": [
            "rani\n",
            "sikdar\n",
            "19\n",
            "june\n",
            "1998\n"
          ]
        }
      ]
    },
    {
      "cell_type": "code",
      "source": [
        "# access\n",
        "\n",
        "print(t3[2])\n",
        "print(t3[4])\n",
        "print(t3[:3])\n",
        "print(t3[:])"
      ],
      "metadata": {
        "colab": {
          "base_uri": "https://localhost:8080/"
        },
        "id": "eUxgm1v2le5H",
        "outputId": "513f5e91-0e4c-4e61-e681-4327e0b66954"
      },
      "execution_count": 29,
      "outputs": [
        {
          "output_type": "stream",
          "name": "stdout",
          "text": [
            "19\n",
            "1998\n",
            "('rani', 'sikdar', 19)\n",
            "('rani', 'sikdar', 19, 'june', 1998)\n"
          ]
        }
      ]
    },
    {
      "cell_type": "code",
      "source": [
        "# update\n",
        "\"\"\"\n",
        "\n",
        "Tuples are immutable, which means you cannot update or change the values of tuple elements.\n",
        "You are able to take portions of existing tuples, to create new tuples\n",
        "\n",
        "\"\"\"\n",
        "tup1 = (12, 34, 56)\n",
        "tup2 = ('abc', 'xyz')\n",
        "\n",
        "tup1[0]=100"
      ],
      "metadata": {
        "colab": {
          "base_uri": "https://localhost:8080/",
          "height": 187
        },
        "id": "n4KynE1FlkRB",
        "outputId": "930ee79c-9d81-4e2d-b0eb-573dbd776fd0"
      },
      "execution_count": 30,
      "outputs": [
        {
          "output_type": "error",
          "ename": "TypeError",
          "evalue": "'tuple' object does not support item assignment",
          "traceback": [
            "\u001b[0;31m---------------------------------------------------------------------------\u001b[0m",
            "\u001b[0;31mTypeError\u001b[0m                                 Traceback (most recent call last)",
            "\u001b[0;32m/tmp/ipython-input-138666440.py\u001b[0m in \u001b[0;36m<cell line: 0>\u001b[0;34m()\u001b[0m\n\u001b[1;32m      9\u001b[0m \u001b[0mtup2\u001b[0m \u001b[0;34m=\u001b[0m \u001b[0;34m(\u001b[0m\u001b[0;34m'abc'\u001b[0m\u001b[0;34m,\u001b[0m \u001b[0;34m'xyz'\u001b[0m\u001b[0;34m)\u001b[0m\u001b[0;34m\u001b[0m\u001b[0;34m\u001b[0m\u001b[0m\n\u001b[1;32m     10\u001b[0m \u001b[0;34m\u001b[0m\u001b[0m\n\u001b[0;32m---> 11\u001b[0;31m \u001b[0mtup1\u001b[0m\u001b[0;34m[\u001b[0m\u001b[0;36m0\u001b[0m\u001b[0;34m]\u001b[0m\u001b[0;34m=\u001b[0m\u001b[0;36m100\u001b[0m\u001b[0;34m\u001b[0m\u001b[0;34m\u001b[0m\u001b[0m\n\u001b[0m",
            "\u001b[0;31mTypeError\u001b[0m: 'tuple' object does not support item assignment"
          ]
        }
      ]
    },
    {
      "cell_type": "code",
      "source": [
        "tup3 = tup1 + tup2\n",
        "print(tup3)"
      ],
      "metadata": {
        "colab": {
          "base_uri": "https://localhost:8080/"
        },
        "id": "0wCZNFVnl-T6",
        "outputId": "95323688-3c60-4bb0-c07f-c15df8b0c2d4"
      },
      "execution_count": 31,
      "outputs": [
        {
          "output_type": "stream",
          "name": "stdout",
          "text": [
            "(12, 34, 56, 'abc', 'xyz')\n"
          ]
        }
      ]
    },
    {
      "cell_type": "code",
      "source": [
        "# delete\n",
        "\n",
        "# Removing individual tuple elements is not possible.\n",
        "\n",
        "print('before deleting')\n",
        "print(tup1)\n",
        "\n",
        "del tup1\n",
        "\n",
        "print('after deleting')\n",
        "print(tup1)"
      ],
      "metadata": {
        "colab": {
          "base_uri": "https://localhost:8080/",
          "height": 244
        },
        "id": "e8b6zMtgmFdE",
        "outputId": "982ad394-5779-42a2-8cf8-17f1fb3f8287"
      },
      "execution_count": 32,
      "outputs": [
        {
          "output_type": "stream",
          "name": "stdout",
          "text": [
            "before deleting\n",
            "(12, 34, 56)\n",
            "after deleting\n"
          ]
        },
        {
          "output_type": "error",
          "ename": "NameError",
          "evalue": "name 'tup1' is not defined",
          "traceback": [
            "\u001b[0;31m---------------------------------------------------------------------------\u001b[0m",
            "\u001b[0;31mNameError\u001b[0m                                 Traceback (most recent call last)",
            "\u001b[0;32m/tmp/ipython-input-73136395.py\u001b[0m in \u001b[0;36m<cell line: 0>\u001b[0;34m()\u001b[0m\n\u001b[1;32m      9\u001b[0m \u001b[0;34m\u001b[0m\u001b[0m\n\u001b[1;32m     10\u001b[0m \u001b[0mprint\u001b[0m\u001b[0;34m(\u001b[0m\u001b[0;34m'after deleting'\u001b[0m\u001b[0;34m)\u001b[0m\u001b[0;34m\u001b[0m\u001b[0;34m\u001b[0m\u001b[0m\n\u001b[0;32m---> 11\u001b[0;31m \u001b[0mprint\u001b[0m\u001b[0;34m(\u001b[0m\u001b[0mtup1\u001b[0m\u001b[0;34m)\u001b[0m\u001b[0;34m\u001b[0m\u001b[0;34m\u001b[0m\u001b[0m\n\u001b[0m",
            "\u001b[0;31mNameError\u001b[0m: name 'tup1' is not defined"
          ]
        }
      ]
    },
    {
      "cell_type": "code",
      "source": [
        "# length\n",
        "len(tup2)"
      ],
      "metadata": {
        "colab": {
          "base_uri": "https://localhost:8080/"
        },
        "id": "ZooTLWMvmXh4",
        "outputId": "0b092528-2aac-4ef9-a52a-a94d64d06ddd"
      },
      "execution_count": 34,
      "outputs": [
        {
          "output_type": "execute_result",
          "data": {
            "text/plain": [
              "2"
            ]
          },
          "metadata": {},
          "execution_count": 34
        }
      ]
    },
    {
      "cell_type": "code",
      "source": [
        "# concatenation\n",
        "\n",
        "(1, 2, 3) + (4, 5, 6)"
      ],
      "metadata": {
        "colab": {
          "base_uri": "https://localhost:8080/"
        },
        "id": "ktuIAIabnmM9",
        "outputId": "df68fa0d-b59c-4211-a964-450b4fa746bc"
      },
      "execution_count": 36,
      "outputs": [
        {
          "output_type": "execute_result",
          "data": {
            "text/plain": [
              "(1, 2, 3, 4, 5, 6)"
            ]
          },
          "metadata": {},
          "execution_count": 36
        }
      ]
    },
    {
      "cell_type": "code",
      "source": [
        "# repetition\n",
        "\n",
        "('hello world',) * 4"
      ],
      "metadata": {
        "colab": {
          "base_uri": "https://localhost:8080/"
        },
        "id": "x4Z_NixhnpiV",
        "outputId": "53f5eb51-d532-4868-d1b0-a3f8e6072a30"
      },
      "execution_count": 38,
      "outputs": [
        {
          "output_type": "execute_result",
          "data": {
            "text/plain": [
              "('hello world', 'hello world', 'hello world', 'hello world')"
            ]
          },
          "metadata": {},
          "execution_count": 38
        }
      ]
    },
    {
      "cell_type": "code",
      "source": [
        "# membership\n",
        "\n",
        "print(tup2)\n",
        "\n",
        "'abc' in tup2"
      ],
      "metadata": {
        "colab": {
          "base_uri": "https://localhost:8080/"
        },
        "id": "sf8_2SZcnydu",
        "outputId": "2dd3c434-5a9b-4192-dee8-87a8061080e6"
      },
      "execution_count": 44,
      "outputs": [
        {
          "output_type": "stream",
          "name": "stdout",
          "text": [
            "('abc', 'xyz')\n"
          ]
        },
        {
          "output_type": "execute_result",
          "data": {
            "text/plain": [
              "True"
            ]
          },
          "metadata": {},
          "execution_count": 44
        }
      ]
    },
    {
      "cell_type": "code",
      "source": [
        "# iteration\n",
        "\n",
        "for x in tup2:\n",
        "  print(x)"
      ],
      "metadata": {
        "colab": {
          "base_uri": "https://localhost:8080/"
        },
        "id": "-eMowbonn4TL",
        "outputId": "48826cc3-0654-4dda-a5f5-13887b6d28a1"
      },
      "execution_count": 47,
      "outputs": [
        {
          "output_type": "stream",
          "name": "stdout",
          "text": [
            "abc\n",
            "xyz\n"
          ]
        }
      ]
    },
    {
      "cell_type": "code",
      "source": [],
      "metadata": {
        "id": "ZIY2V0qhoFmX"
      },
      "execution_count": null,
      "outputs": []
    }
  ]
}