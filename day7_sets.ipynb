{
  "nbformat": 4,
  "nbformat_minor": 0,
  "metadata": {
    "colab": {
      "provenance": [],
      "authorship_tag": "ABX9TyNx/Ozxvg3QdF96QEEY2HBf",
      "include_colab_link": true
    },
    "kernelspec": {
      "name": "python3",
      "display_name": "Python 3"
    },
    "language_info": {
      "name": "python"
    }
  },
  "cells": [
    {
      "cell_type": "markdown",
      "metadata": {
        "id": "view-in-github",
        "colab_type": "text"
      },
      "source": [
        "<a href=\"https://colab.research.google.com/github/rani-sikdar/30-days-of-python/blob/main/day7_sets.ipynb\" target=\"_parent\"><img src=\"https://colab.research.google.com/assets/colab-badge.svg\" alt=\"Open In Colab\"/></a>"
      ]
    },
    {
      "cell_type": "code",
      "execution_count": 1,
      "metadata": {
        "id": "XWemADzDY4IW"
      },
      "outputs": [],
      "source": [
        "# syntax\n",
        "st = set()"
      ]
    },
    {
      "cell_type": "code",
      "source": [
        "# syntax\n",
        "st = {'item1', 'item2', 'item3', 'item4'}"
      ],
      "metadata": {
        "id": "SUAtouhmY5T_"
      },
      "execution_count": 2,
      "outputs": []
    },
    {
      "cell_type": "code",
      "source": [
        "# syntax\n",
        "fruits = {'banana', 'orange', 'mango', 'lemon'}"
      ],
      "metadata": {
        "id": "PyMGv5dfY5Rm"
      },
      "execution_count": 3,
      "outputs": []
    },
    {
      "cell_type": "code",
      "source": [
        "# syntax\n",
        "st = {'item1', 'item2', 'item3', 'item4'}\n",
        "len(st)"
      ],
      "metadata": {
        "colab": {
          "base_uri": "https://localhost:8080/"
        },
        "id": "lGpiLm3HY5PD",
        "outputId": "6eea82e3-b451-4043-a1b8-6fee12a6c685"
      },
      "execution_count": 4,
      "outputs": [
        {
          "output_type": "execute_result",
          "data": {
            "text/plain": [
              "4"
            ]
          },
          "metadata": {},
          "execution_count": 4
        }
      ]
    },
    {
      "cell_type": "markdown",
      "source": [],
      "metadata": {
        "id": "0i47Jux1ZCNy"
      }
    },
    {
      "cell_type": "code",
      "source": [
        "fruits = {'banana', 'orange', 'mango', 'lemon'}\n",
        "len(fruits)"
      ],
      "metadata": {
        "colab": {
          "base_uri": "https://localhost:8080/"
        },
        "id": "6avl-3bsY5MC",
        "outputId": "4cadb7a0-b203-47cb-ef65-f5d040abaad7"
      },
      "execution_count": 5,
      "outputs": [
        {
          "output_type": "execute_result",
          "data": {
            "text/plain": [
              "4"
            ]
          },
          "metadata": {},
          "execution_count": 5
        }
      ]
    },
    {
      "cell_type": "code",
      "source": [
        "fruits = {'banana', 'orange', 'mango', 'lemon'}\n",
        "print('mango' in fruits ) # True"
      ],
      "metadata": {
        "colab": {
          "base_uri": "https://localhost:8080/"
        },
        "id": "gwIT5xMuY5JN",
        "outputId": "d703851e-a001-4951-e193-531b829c3133"
      },
      "execution_count": 6,
      "outputs": [
        {
          "output_type": "stream",
          "name": "stdout",
          "text": [
            "True\n"
          ]
        }
      ]
    },
    {
      "cell_type": "code",
      "source": [
        "fruits = {'banana', 'orange', 'mango', 'lemon'}\n",
        "fruits.add('lime')"
      ],
      "metadata": {
        "id": "qmMKabKSY5Gc"
      },
      "execution_count": 7,
      "outputs": []
    },
    {
      "cell_type": "code",
      "source": [
        "# syntax\n",
        "st = {'item1', 'item2', 'item3', 'item4'}\n",
        "st.update(['item5','item6','item7'])"
      ],
      "metadata": {
        "id": "I3vserdgY5Dm"
      },
      "execution_count": 8,
      "outputs": []
    },
    {
      "cell_type": "code",
      "source": [
        "fruits = {'banana', 'orange', 'mango', 'lemon'}\n",
        "fruits.pop()  # removes a random item from the set\n"
      ],
      "metadata": {
        "colab": {
          "base_uri": "https://localhost:8080/",
          "height": 35
        },
        "id": "s8Yt0MYzY5At",
        "outputId": "1668d1c3-bcbb-4674-ea85-37f9b506db47"
      },
      "execution_count": 9,
      "outputs": [
        {
          "output_type": "execute_result",
          "data": {
            "text/plain": [
              "'banana'"
            ],
            "application/vnd.google.colaboratory.intrinsic+json": {
              "type": "string"
            }
          },
          "metadata": {},
          "execution_count": 9
        }
      ]
    },
    {
      "cell_type": "code",
      "source": [
        "fruits"
      ],
      "metadata": {
        "colab": {
          "base_uri": "https://localhost:8080/"
        },
        "id": "LuHJF4ZkY4-G",
        "outputId": "bccb46a3-ac06-4fa6-ffbd-7f22533b4945"
      },
      "execution_count": 10,
      "outputs": [
        {
          "output_type": "execute_result",
          "data": {
            "text/plain": [
              "{'lemon', 'mango', 'orange'}"
            ]
          },
          "metadata": {},
          "execution_count": 10
        }
      ]
    },
    {
      "cell_type": "code",
      "source": [
        "fruits = {'banana', 'orange', 'mango', 'lemon'}\n",
        "removed_item = fruits.pop()"
      ],
      "metadata": {
        "id": "KhEXOVfHY47L"
      },
      "execution_count": 11,
      "outputs": []
    },
    {
      "cell_type": "code",
      "source": [
        "removed_item"
      ],
      "metadata": {
        "colab": {
          "base_uri": "https://localhost:8080/",
          "height": 35
        },
        "id": "5H4PpS20Y44S",
        "outputId": "ac588256-b762-4153-d4f8-c5b268870fc9"
      },
      "execution_count": 12,
      "outputs": [
        {
          "output_type": "execute_result",
          "data": {
            "text/plain": [
              "'banana'"
            ],
            "application/vnd.google.colaboratory.intrinsic+json": {
              "type": "string"
            }
          },
          "metadata": {},
          "execution_count": 12
        }
      ]
    },
    {
      "cell_type": "code",
      "source": [
        "fruits = {'banana', 'orange', 'mango', 'lemon'}\n",
        "fruits.clear()\n",
        "print(fruits) # set()"
      ],
      "metadata": {
        "colab": {
          "base_uri": "https://localhost:8080/"
        },
        "id": "AjtPHiNPY41Z",
        "outputId": "da90192c-fed1-43b3-cffd-31b2d44c59fc"
      },
      "execution_count": 13,
      "outputs": [
        {
          "output_type": "stream",
          "name": "stdout",
          "text": [
            "set()\n"
          ]
        }
      ]
    },
    {
      "cell_type": "code",
      "source": [
        "fruits = {'banana', 'orange', 'mango', 'lemon'}\n",
        "del fruits"
      ],
      "metadata": {
        "id": "oENOdh5FZXsu"
      },
      "execution_count": 14,
      "outputs": []
    },
    {
      "cell_type": "code",
      "source": [
        "fruits"
      ],
      "metadata": {
        "colab": {
          "base_uri": "https://localhost:8080/",
          "height": 141
        },
        "id": "4QR22HBtZXpI",
        "outputId": "fa0aff28-2d23-4d50-9c04-6eb243f8812b"
      },
      "execution_count": 15,
      "outputs": [
        {
          "output_type": "error",
          "ename": "NameError",
          "evalue": "name 'fruits' is not defined",
          "traceback": [
            "\u001b[0;31m---------------------------------------------------------------------------\u001b[0m",
            "\u001b[0;31mNameError\u001b[0m                                 Traceback (most recent call last)",
            "\u001b[0;32m<ipython-input-15-5842b46f59fb>\u001b[0m in \u001b[0;36m<cell line: 0>\u001b[0;34m()\u001b[0m\n\u001b[0;32m----> 1\u001b[0;31m \u001b[0mfruits\u001b[0m\u001b[0;34m\u001b[0m\u001b[0;34m\u001b[0m\u001b[0m\n\u001b[0m",
            "\u001b[0;31mNameError\u001b[0m: name 'fruits' is not defined"
          ]
        }
      ]
    },
    {
      "cell_type": "code",
      "source": [
        "fruits = ['banana', 'orange', 'mango', 'lemon','orange', 'banana']\n",
        "fruits = set(fruits) # {'mango', 'lemon', 'banana', 'orange'}"
      ],
      "metadata": {
        "id": "92iPj37yZXmj"
      },
      "execution_count": 16,
      "outputs": []
    },
    {
      "cell_type": "code",
      "source": [
        "fruits"
      ],
      "metadata": {
        "colab": {
          "base_uri": "https://localhost:8080/"
        },
        "id": "Zi7XIJBmZXjh",
        "outputId": "1d604bff-3110-4f23-d7aa-d80514d70a74"
      },
      "execution_count": 17,
      "outputs": [
        {
          "output_type": "execute_result",
          "data": {
            "text/plain": [
              "{'banana', 'lemon', 'mango', 'orange'}"
            ]
          },
          "metadata": {},
          "execution_count": 17
        }
      ]
    },
    {
      "cell_type": "code",
      "source": [
        "fruits = {'banana', 'orange', 'mango', 'lemon'}\n",
        "vegetables = {'tomato', 'potato', 'cabbage','onion', 'carrot'}\n",
        "print(fruits.union(vegetables)) # {'lemon', 'carrot', 'tomato', 'banana', 'mango', 'orange', 'cabbage', 'potato', 'onion'}"
      ],
      "metadata": {
        "colab": {
          "base_uri": "https://localhost:8080/"
        },
        "id": "M3xYeBXMZhbc",
        "outputId": "f7eac89d-02c4-4132-d3f6-38befbcc0594"
      },
      "execution_count": 18,
      "outputs": [
        {
          "output_type": "stream",
          "name": "stdout",
          "text": [
            "{'banana', 'orange', 'tomato', 'onion', 'potato', 'carrot', 'cabbage', 'mango', 'lemon'}\n"
          ]
        }
      ]
    },
    {
      "cell_type": "code",
      "source": [
        "fruits = {'banana', 'orange', 'mango', 'lemon'}\n",
        "vegetables = {'tomato', 'potato', 'cabbage','onion', 'carrot'}\n",
        "fruits.update(vegetables)\n",
        "print(fruits) # {'lemon', 'carrot', 'tomato', 'banana', 'mango', 'orange', 'cabbage', 'potato', 'onion'}"
      ],
      "metadata": {
        "colab": {
          "base_uri": "https://localhost:8080/"
        },
        "id": "GnIaHMUXZhYr",
        "outputId": "a28d8fb2-514e-4b5d-bc51-7cce427e8b5f"
      },
      "execution_count": 20,
      "outputs": [
        {
          "output_type": "stream",
          "name": "stdout",
          "text": [
            "{'banana', 'orange', 'tomato', 'onion', 'potato', 'carrot', 'cabbage', 'mango', 'lemon'}\n"
          ]
        }
      ]
    },
    {
      "cell_type": "code",
      "source": [
        "whole_numbers = {0, 1, 2, 3, 4, 5, 6, 7, 8, 9, 10}\n",
        "even_numbers = {0, 2, 4, 6, 8, 10}\n",
        "whole_numbers.intersection(even_numbers) # {0, 2, 4, 6, 8, 10}\n",
        "\n",
        "python = {'p', 'y', 't', 'h', 'o','n'}\n",
        "dragon = {'d', 'r', 'a', 'g', 'o','n'}\n",
        "python.intersection(dragon)     # {'o', 'n'}"
      ],
      "metadata": {
        "colab": {
          "base_uri": "https://localhost:8080/"
        },
        "id": "y8IaDWVtZhVx",
        "outputId": "b28d52cd-b686-4dc5-fb9c-f67476498581"
      },
      "execution_count": 21,
      "outputs": [
        {
          "output_type": "execute_result",
          "data": {
            "text/plain": [
              "{'n', 'o'}"
            ]
          },
          "metadata": {},
          "execution_count": 21
        }
      ]
    },
    {
      "cell_type": "code",
      "source": [
        "whole_numbers = {0, 1, 2, 3, 4, 5, 6, 7, 8, 9, 10}\n",
        "even_numbers = {0, 2, 4, 6, 8, 10}\n",
        "whole_numbers.issubset(even_numbers) # False, because it is a super set\n",
        "whole_numbers.issuperset(even_numbers) # True\n",
        "\n",
        "python = {'p', 'y', 't', 'h', 'o','n'}\n",
        "dragon = {'d', 'r', 'a', 'g', 'o','n'}\n",
        "python.issubset(dragon)     # False"
      ],
      "metadata": {
        "colab": {
          "base_uri": "https://localhost:8080/"
        },
        "id": "D_MssnuyZhS6",
        "outputId": "96816651-b19b-4aa4-825a-80eae65c8944"
      },
      "execution_count": 22,
      "outputs": [
        {
          "output_type": "execute_result",
          "data": {
            "text/plain": [
              "False"
            ]
          },
          "metadata": {},
          "execution_count": 22
        }
      ]
    },
    {
      "cell_type": "code",
      "source": [
        "whole_numbers = {0, 1, 2, 3, 4, 5, 6, 7, 8, 9, 10}\n",
        "even_numbers = {0, 2, 4, 6, 8, 10}\n",
        "whole_numbers.difference(even_numbers) # {1, 3, 5, 7, 9}\n",
        "\n",
        "python = {'p', 'y', 't', 'o','n'}\n",
        "dragon = {'d', 'r', 'a', 'g', 'o','n'}\n",
        "python.difference(dragon)     # {'p', 'y', 't'}  - the result is unordered (characteristic of sets)\n",
        "dragon.difference(python)     # {'d', 'r', 'a', 'g'}"
      ],
      "metadata": {
        "colab": {
          "base_uri": "https://localhost:8080/"
        },
        "id": "FDvAeBh3ZhQn",
        "outputId": "0ae2e19e-83f0-435d-8b2a-b28f6eb4c13e"
      },
      "execution_count": 23,
      "outputs": [
        {
          "output_type": "execute_result",
          "data": {
            "text/plain": [
              "{'a', 'd', 'g', 'r'}"
            ]
          },
          "metadata": {},
          "execution_count": 23
        }
      ]
    },
    {
      "cell_type": "code",
      "source": [
        "whole_numbers = {0, 1, 2, 3, 4, 5, 6, 7, 8, 9, 10}\n",
        "some_numbers = {1, 2, 3, 4, 5}\n",
        "whole_numbers.symmetric_difference(some_numbers) # {0, 6, 7, 8, 9, 10}\n",
        "\n",
        "python = {'p', 'y', 't', 'h', 'o','n'}\n",
        "dragon = {'d', 'r', 'a', 'g', 'o','n'}\n",
        "python.symmetric_difference(dragon)  # {'r', 't', 'p', 'y', 'g', 'a', 'd', 'h'}"
      ],
      "metadata": {
        "colab": {
          "base_uri": "https://localhost:8080/"
        },
        "id": "eJPdhIe5ZhNf",
        "outputId": "7d89bb5e-78cf-4499-f58d-51ef48fedb77"
      },
      "execution_count": 24,
      "outputs": [
        {
          "output_type": "execute_result",
          "data": {
            "text/plain": [
              "{'a', 'd', 'g', 'h', 'p', 'r', 't', 'y'}"
            ]
          },
          "metadata": {},
          "execution_count": 24
        }
      ]
    },
    {
      "cell_type": "code",
      "source": [
        "even_numbers = {0, 2, 4 ,6, 8}\n",
        "odd_numbers = {1, 3, 5, 7, 9}\n",
        "even_numbers.isdisjoint(odd_numbers) # True, because no common item\n",
        "\n",
        "python = {'p', 'y', 't', 'h', 'o','n'}\n",
        "dragon = {'d', 'r', 'a', 'g', 'o','n'}\n",
        "python.isdisjoint(dragon)  # False, there are common items {'o', 'n'}"
      ],
      "metadata": {
        "colab": {
          "base_uri": "https://localhost:8080/"
        },
        "id": "3nTTK5CDZhKa",
        "outputId": "67e36af8-15d6-4170-aa4b-9bbdcec01584"
      },
      "execution_count": 25,
      "outputs": [
        {
          "output_type": "execute_result",
          "data": {
            "text/plain": [
              "False"
            ]
          },
          "metadata": {},
          "execution_count": 25
        }
      ]
    }
  ]
}