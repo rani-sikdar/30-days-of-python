{
  "nbformat": 4,
  "nbformat_minor": 0,
  "metadata": {
    "colab": {
      "provenance": [],
      "authorship_tag": "ABX9TyP6MWBTnQsReGIiEustGdR5",
      "include_colab_link": true
    },
    "kernelspec": {
      "name": "python3",
      "display_name": "Python 3"
    },
    "language_info": {
      "name": "python"
    }
  },
  "cells": [
    {
      "cell_type": "markdown",
      "metadata": {
        "id": "view-in-github",
        "colab_type": "text"
      },
      "source": [
        "<a href=\"https://colab.research.google.com/github/rani-sikdar/30-days-of-python/blob/main/day4_strings.ipynb\" target=\"_parent\"><img src=\"https://colab.research.google.com/assets/colab-badge.svg\" alt=\"Open In Colab\"/></a>"
      ]
    },
    {
      "cell_type": "code",
      "source": [
        "# Single line comment\n",
        "letter = 'P'                # A string could be a single character or a bunch of texts\n",
        "print(letter)               # P\n",
        "print(len(letter))          # 1\n",
        "greeting = 'Hello, World!'  # String could be  a single or double quote,\"Hello, World!\"\n",
        "print(greeting)             # Hello, World!\n",
        "print(len(greeting))        # 13\n",
        "sentence = \"I hope you are enjoying 30 days of python challenge\"\n",
        "print(sentence)\n"
      ],
      "metadata": {
        "colab": {
          "base_uri": "https://localhost:8080/"
        },
        "id": "mYhjMYWSJ75L",
        "outputId": "a9cf6e23-c97a-4186-cbf6-5982f8041f7e"
      },
      "execution_count": 3,
      "outputs": [
        {
          "output_type": "stream",
          "name": "stdout",
          "text": [
            "P\n",
            "1\n",
            "Hello, World!\n",
            "13\n",
            "I hope you are enjoying 30 days of python challenge\n"
          ]
        }
      ]
    },
    {
      "cell_type": "code",
      "source": [
        "# Multiline String\n",
        "multiline_string = '''I am a teacher and enjoy teaching.\n",
        "I didn't find anything as rewarding as empowering people.\n",
        "That is why I created 30 days of python.'''\n",
        "print(multiline_string)\n",
        "# Another way of doing the same thing\n",
        "multiline_string = \"\"\"I am a teacher and enjoy teaching.\n",
        "I didn't find anything as rewarding as empowering people.\n",
        "That is why I created 30 days of python.\"\"\"\n",
        "print(multiline_string)"
      ],
      "metadata": {
        "colab": {
          "base_uri": "https://localhost:8080/"
        },
        "id": "BNyyEj07J_aW",
        "outputId": "344d4ced-8b99-4484-e45f-5eb8c9df88de"
      },
      "execution_count": 4,
      "outputs": [
        {
          "output_type": "stream",
          "name": "stdout",
          "text": [
            "I am a teacher and enjoy teaching.\n",
            "I didn't find anything as rewarding as empowering people.\n",
            "That is why I created 30 days of python.\n",
            "I am a teacher and enjoy teaching.\n",
            "I didn't find anything as rewarding as empowering people.\n",
            "That is why I created 30 days of python.\n"
          ]
        }
      ]
    },
    {
      "cell_type": "code",
      "source": [
        "# String Concatenation\n",
        "first_name = 'Rani'\n",
        "last_name = 'Sikdar'\n",
        "space = ' '\n",
        "full_name = first_name  +  space + last_name\n",
        "print(full_name) # Rani Sikdar\n",
        "# Checking length of a string using len() builtin function\n",
        "print(len(first_name))  # 8\n",
        "print(len(last_name))   # 7\n",
        "print(len(first_name) > len(last_name)) # True\n",
        "print(len(full_name)) # 15"
      ],
      "metadata": {
        "colab": {
          "base_uri": "https://localhost:8080/"
        },
        "id": "de8hb3qtKEkc",
        "outputId": "d7a288c2-c5a0-473f-c85e-98174d1ae875"
      },
      "execution_count": 5,
      "outputs": [
        {
          "output_type": "stream",
          "name": "stdout",
          "text": [
            "Rani Sikdar\n",
            "4\n",
            "6\n",
            "False\n",
            "11\n"
          ]
        }
      ]
    },
    {
      "cell_type": "code",
      "source": [
        "#### Unpacking characters\n",
        "language = 'Python'\n",
        "a,b,c,d,e,f = language # unpacking sequence characters into variables\n",
        "print(a) # P\n",
        "print(b) # y\n",
        "print(c) # t\n",
        "print(d) # h\n",
        "print(e) # o\n",
        "print(f) # n"
      ],
      "metadata": {
        "colab": {
          "base_uri": "https://localhost:8080/"
        },
        "id": "yenVsaL7KERA",
        "outputId": "d43f5526-f223-4538-da36-d439d096eac6"
      },
      "execution_count": 6,
      "outputs": [
        {
          "output_type": "stream",
          "name": "stdout",
          "text": [
            "P\n",
            "y\n",
            "t\n",
            "h\n",
            "o\n",
            "n\n"
          ]
        }
      ]
    },
    {
      "cell_type": "code",
      "source": [
        "# Accessing characters in strings by index\n",
        "language = 'Python'\n",
        "first_letter = language[0]\n",
        "print(first_letter) # P\n",
        "second_letter = language[1]\n",
        "print(second_letter) # y\n",
        "last_index = len(language) - 1\n",
        "last_letter = language[last_index]\n",
        "print(last_letter) # n"
      ],
      "metadata": {
        "colab": {
          "base_uri": "https://localhost:8080/"
        },
        "id": "FIcBQBr6KIUw",
        "outputId": "815769db-53d0-4ccb-fb7d-22af94f8cc46"
      },
      "execution_count": 7,
      "outputs": [
        {
          "output_type": "stream",
          "name": "stdout",
          "text": [
            "P\n",
            "y\n",
            "n\n"
          ]
        }
      ]
    },
    {
      "cell_type": "code",
      "source": [
        "# If we want to start from right end we can use negative indexing. -1 is the last index\n",
        "language = 'Python'\n",
        "last_letter = language[-1]\n",
        "print(last_letter) # n\n",
        "second_last = language[-2]\n",
        "print(second_last) # o"
      ],
      "metadata": {
        "colab": {
          "base_uri": "https://localhost:8080/"
        },
        "id": "70LmO4JYKMtQ",
        "outputId": "32f58fdd-98ae-4617-ba1e-7eee0d3b7f2a"
      },
      "execution_count": 8,
      "outputs": [
        {
          "output_type": "stream",
          "name": "stdout",
          "text": [
            "n\n",
            "o\n"
          ]
        }
      ]
    },
    {
      "cell_type": "code",
      "source": [
        "# Slicing\n",
        "\n",
        "language = 'Python'\n",
        "first_three = language[0:3] # starts at zero index and up to 3 but not include 3\n",
        "last_three = language[3:6]\n",
        "print(last_three) # hon\n",
        "\n",
        "# Another way\n",
        "last_three = language[-3:]\n",
        "print(last_three)   # hon\n",
        "last_three = language[3:]\n",
        "print(last_three)   # hon"
      ],
      "metadata": {
        "colab": {
          "base_uri": "https://localhost:8080/"
        },
        "id": "PoRN8GZ2KQEf",
        "outputId": "929709a9-944d-4195-be53-36bcc92a0347"
      },
      "execution_count": 9,
      "outputs": [
        {
          "output_type": "stream",
          "name": "stdout",
          "text": [
            "hon\n",
            "hon\n",
            "hon\n"
          ]
        }
      ]
    },
    {
      "cell_type": "code",
      "source": [
        "# Skipping character while splitting Python strings\n",
        "language = 'Python'\n",
        "pto = language[0:6:2] #\n",
        "print(pto) # pto"
      ],
      "metadata": {
        "colab": {
          "base_uri": "https://localhost:8080/"
        },
        "id": "XaIQeYJiKSQR",
        "outputId": "56d333f0-19e8-44a8-cd9d-f84df3005430"
      },
      "execution_count": 10,
      "outputs": [
        {
          "output_type": "stream",
          "name": "stdout",
          "text": [
            "Pto\n"
          ]
        }
      ]
    },
    {
      "cell_type": "code",
      "source": [
        "# Escape sequence\n",
        "print('I hope every one enjoying the python challenge.\\nDo you ?') # line break\n",
        "print('Days\\tTopics\\tExercises')\n",
        "print('Day 1\\t3\\t5')\n",
        "print('Day 2\\t3\\t5')\n",
        "print('Day 3\\t3\\t5')\n",
        "print('Day 4\\t3\\t5')\n",
        "print('This is a back slash  symbol (\\\\)') # To write a back slash\n",
        "print('In every programming language it starts with \\\"Hello, World!\\\"')"
      ],
      "metadata": {
        "colab": {
          "base_uri": "https://localhost:8080/"
        },
        "id": "1kfjMXcVKVvj",
        "outputId": "777e52b8-1d90-4edb-fa79-3c4721fec395"
      },
      "execution_count": 11,
      "outputs": [
        {
          "output_type": "stream",
          "name": "stdout",
          "text": [
            "I hope every one enjoying the python challenge.\n",
            "Do you ?\n",
            "Days\tTopics\tExercises\n",
            "Day 1\t3\t5\n",
            "Day 2\t3\t5\n",
            "Day 3\t3\t5\n",
            "Day 4\t3\t5\n",
            "This is a back slash  symbol (\\)\n",
            "In every programming language it starts with \"Hello, World!\"\n"
          ]
        }
      ]
    },
    {
      "cell_type": "markdown",
      "source": [
        "String Methods"
      ],
      "metadata": {
        "id": "GYSgGhv6KaXM"
      }
    },
    {
      "cell_type": "code",
      "source": [
        "## String Methods\n",
        "# capitalize(): Converts the first character the string to Capital Letter\n",
        "\n",
        "challenge = 'thirty days of python'\n",
        "print(challenge.capitalize()) # 'Thirty days of python'\n",
        "\n",
        "# count(): returns occurrences of substring in string, count(substring, start=.., end=..)\n",
        "\n",
        "challenge = 'thirty days of python'\n",
        "print(challenge.count('y')) # 3\n",
        "print(challenge.count('y', 7, 14)) # 1\n",
        "print(challenge.count('th')) # 2`"
      ],
      "metadata": {
        "colab": {
          "base_uri": "https://localhost:8080/"
        },
        "id": "Ka8r8LH9Kd2F",
        "outputId": "1a986264-7e50-4a8f-b6d2-8d599e878a58"
      },
      "execution_count": 12,
      "outputs": [
        {
          "output_type": "stream",
          "name": "stdout",
          "text": [
            "Thirty days of python\n",
            "3\n",
            "1\n",
            "2\n"
          ]
        }
      ]
    },
    {
      "cell_type": "code",
      "source": [
        "# endswith(): Checks if a string ends with a specified ending\n",
        "\n",
        "challenge = 'thirty days of python'\n",
        "print(challenge.endswith('on'))   # True\n",
        "print(challenge.endswith('tion')) # False\n",
        "\n",
        "# expandtabs(): Replaces tab character with spaces, default tab size is 8. It takes tab size argument\n",
        "\n",
        "challenge = 'thirty\\tdays\\tof\\tpython'\n",
        "print(challenge.expandtabs())   # 'thirty  days    of      python'\n",
        "print(challenge.expandtabs(10)) # 'thirty    days      of        python'"
      ],
      "metadata": {
        "colab": {
          "base_uri": "https://localhost:8080/"
        },
        "id": "bozTEwSTKg_O",
        "outputId": "7fa62589-3b32-4098-f56c-4be177fb4b94"
      },
      "execution_count": 13,
      "outputs": [
        {
          "output_type": "stream",
          "name": "stdout",
          "text": [
            "True\n",
            "False\n",
            "thirty  days    of      python\n",
            "thirty    days      of        python\n"
          ]
        }
      ]
    },
    {
      "cell_type": "code",
      "source": [
        "# find(): Returns the index of first occurrence of substring\n",
        "\n",
        "challenge = 'thirty days of python'\n",
        "print(challenge.find('y'))  # 5\n",
        "print(challenge.find('th')) # 0"
      ],
      "metadata": {
        "colab": {
          "base_uri": "https://localhost:8080/"
        },
        "id": "Nv9AbMkcKo0R",
        "outputId": "e1ecfa97-b1cd-4d57-cf28-4d69869260d9"
      },
      "execution_count": 14,
      "outputs": [
        {
          "output_type": "stream",
          "name": "stdout",
          "text": [
            "5\n",
            "0\n"
          ]
        }
      ]
    },
    {
      "cell_type": "code",
      "source": [
        "# format()\tformats string into nicer output\n",
        "first_name = 'Raani'\n",
        "last_name = 'Sikdar'\n",
        "job = 'student'\n",
        "country = 'India'\n",
        "sentence = 'I am {} {}. I am a {}. I live in {}.'.format(first_name, last_name, job, country)\n",
        "print(sentence)"
      ],
      "metadata": {
        "colab": {
          "base_uri": "https://localhost:8080/"
        },
        "id": "fdM7mhMGKq7Y",
        "outputId": "c571abc2-83c5-441e-e425-e12081756564"
      },
      "execution_count": 16,
      "outputs": [
        {
          "output_type": "stream",
          "name": "stdout",
          "text": [
            "I am Raani Sikdar. I am a student. I live in India.\n"
          ]
        }
      ]
    },
    {
      "cell_type": "code",
      "source": [
        "radius = 10\n",
        "pi = 3.14\n",
        "area = pi # radius ## 2\n",
        "result = 'The area of circle with {} is {}'.format(str(radius), str(area))\n",
        "print(result) # The area of circle with 10 is 314.0"
      ],
      "metadata": {
        "colab": {
          "base_uri": "https://localhost:8080/"
        },
        "id": "g6PGznNeKwBC",
        "outputId": "b71c0934-d255-4829-c09c-b0601fdcefdd"
      },
      "execution_count": 17,
      "outputs": [
        {
          "output_type": "stream",
          "name": "stdout",
          "text": [
            "The area of circle with 10 is 3.14\n"
          ]
        }
      ]
    },
    {
      "cell_type": "code",
      "source": [
        "# index(): Returns the index of substring\n",
        "challenge = 'thirty days of python'\n",
        "print(challenge.find('y'))  # 5\n",
        "print(challenge.find('th')) # 0"
      ],
      "metadata": {
        "colab": {
          "base_uri": "https://localhost:8080/"
        },
        "id": "2zBhGxadKyLG",
        "outputId": "bfb415b7-e273-47a8-8974-15c8acb52726"
      },
      "execution_count": 18,
      "outputs": [
        {
          "output_type": "stream",
          "name": "stdout",
          "text": [
            "5\n",
            "0\n"
          ]
        }
      ]
    },
    {
      "cell_type": "code",
      "source": [
        "# isalnum(): Checks alphanumeric character\n",
        "\n",
        "challenge = 'ThirtyDaysPython'\n",
        "print(challenge.isalnum()) # True\n",
        "\n",
        "challenge = '30DaysPython'\n",
        "print(challenge.isalnum()) # True\n",
        "\n",
        "challenge = 'thirty days of python'\n",
        "print(challenge.isalnum()) # False\n",
        "\n",
        "challenge = 'thirty days of python 2019'\n",
        "print(challenge.isalnum()) # False\n"
      ],
      "metadata": {
        "colab": {
          "base_uri": "https://localhost:8080/"
        },
        "id": "841AUX0dK1wA",
        "outputId": "65241521-d705-4bb7-d7ed-f1e2a6b4c00e"
      },
      "execution_count": 19,
      "outputs": [
        {
          "output_type": "stream",
          "name": "stdout",
          "text": [
            "True\n",
            "True\n",
            "False\n",
            "False\n"
          ]
        }
      ]
    },
    {
      "cell_type": "code",
      "source": [
        "# isalpha(): Checks if all characters are alphabets\n",
        "\n",
        "challenge = 'thirty days of python'\n",
        "print(challenge.isalpha()) # True\n",
        "num = '123'\n",
        "print(num.isalpha())      # False"
      ],
      "metadata": {
        "colab": {
          "base_uri": "https://localhost:8080/"
        },
        "id": "xpsSVHz-K3tp",
        "outputId": "1671f1c4-7327-44fa-b3dc-8928c6ea6282"
      },
      "execution_count": 21,
      "outputs": [
        {
          "output_type": "stream",
          "name": "stdout",
          "text": [
            "False\n",
            "False\n"
          ]
        }
      ]
    },
    {
      "cell_type": "code",
      "source": [
        "# isdecimal(): Checks Decimal Characters\n",
        "\n",
        "challenge = 'thirty days of python'\n",
        "print(challenge.find('y'))  # 5\n",
        "print(challenge.find('th')) # 0"
      ],
      "metadata": {
        "colab": {
          "base_uri": "https://localhost:8080/"
        },
        "id": "TC0wmWpVK6A3",
        "outputId": "40e8327d-dc22-41cf-fb62-b1bf31780ca4"
      },
      "execution_count": 22,
      "outputs": [
        {
          "output_type": "stream",
          "name": "stdout",
          "text": [
            "5\n",
            "0\n"
          ]
        }
      ]
    },
    {
      "cell_type": "code",
      "source": [
        "# isdigit(): Checks Digit Characters\n",
        "\n",
        "challenge = 'Thirty'\n",
        "print(challenge.isdigit()) # False\n",
        "challenge = '30'\n",
        "print(challenge.isdigit())   # True"
      ],
      "metadata": {
        "colab": {
          "base_uri": "https://localhost:8080/"
        },
        "id": "KEMASeHMK7ro",
        "outputId": "eaa5c4c1-0791-4b0c-ce79-f287226a08bc"
      },
      "execution_count": 23,
      "outputs": [
        {
          "output_type": "stream",
          "name": "stdout",
          "text": [
            "False\n",
            "True\n"
          ]
        }
      ]
    },
    {
      "cell_type": "code",
      "source": [
        "# isdecimal():Checks decimal characters\n",
        "\n",
        "num = '10'\n",
        "print(num.isdecimal()) # True\n",
        "num = '10.5'\n",
        "print(num.isdecimal()) # False"
      ],
      "metadata": {
        "colab": {
          "base_uri": "https://localhost:8080/"
        },
        "id": "pSPkuS4dK9l_",
        "outputId": "fc3c0985-f2b3-48ae-ad0e-22bc9a7c20fc"
      },
      "execution_count": 24,
      "outputs": [
        {
          "output_type": "stream",
          "name": "stdout",
          "text": [
            "True\n",
            "False\n"
          ]
        }
      ]
    },
    {
      "cell_type": "code",
      "source": [
        "# isnumeric():Checks numeric characters\n",
        "\n",
        "num = '10'\n",
        "print(num.isnumeric())      # True\n",
        "print('ten'.isnumeric())    # False"
      ],
      "metadata": {
        "colab": {
          "base_uri": "https://localhost:8080/"
        },
        "id": "rwsHpnP1LGd-",
        "outputId": "49310006-aa6a-44ef-9ad3-5a4911d1ffdd"
      },
      "execution_count": 27,
      "outputs": [
        {
          "output_type": "stream",
          "name": "stdout",
          "text": [
            "True\n",
            "False\n"
          ]
        }
      ]
    },
    {
      "cell_type": "code",
      "source": [
        "# isidentifier():Checks for valid identifier means it check if a string is a valid variable name\n",
        "\n",
        "challenge = '30DaysOfPython'\n",
        "print(challenge.isidentifier()) # False, because it starts with a number\n",
        "challenge = 'thirty_days_of_python'\n",
        "print(challenge.isidentifier()) # True"
      ],
      "metadata": {
        "colab": {
          "base_uri": "https://localhost:8080/"
        },
        "id": "SOS8xENsK_Za",
        "outputId": "cb567b8a-c49a-4fd1-ccc8-1423ecc83658"
      },
      "execution_count": 25,
      "outputs": [
        {
          "output_type": "stream",
          "name": "stdout",
          "text": [
            "False\n",
            "True\n"
          ]
        }
      ]
    },
    {
      "cell_type": "code",
      "source": [
        "# islower():Checks if all alphabets in a string are lowercase\n",
        "\n",
        "challenge = 'thirty days of python'\n",
        "print(challenge.islower()) # True\n",
        "challenge = 'Thirty days of python'\n",
        "print(challenge.islower()) # False\n",
        "\n",
        "# isupper(): returns if all characters are uppercase characters\n",
        "\n",
        "challenge = 'thirty days of python'\n",
        "print(challenge.isupper()) #  False\n",
        "challenge = 'THIRTY DAYS OF PYTHON'\n",
        "print(challenge.isupper()) # True\n"
      ],
      "metadata": {
        "colab": {
          "base_uri": "https://localhost:8080/"
        },
        "id": "iBJ0uesGLB_c",
        "outputId": "b9e87179-3709-48af-afa8-e4ca5772c4d0"
      },
      "execution_count": 26,
      "outputs": [
        {
          "output_type": "stream",
          "name": "stdout",
          "text": [
            "True\n",
            "False\n",
            "False\n",
            "True\n"
          ]
        }
      ]
    },
    {
      "cell_type": "code",
      "source": [
        "# join(): Returns a concatenated string\n",
        "\n",
        "web_tech = ['HTML', 'CSS', 'JavaScript', 'React']\n",
        "result = '#, '.join(web_tech)\n",
        "print(result) # 'HTML# CSS# JavaScript# React'"
      ],
      "metadata": {
        "colab": {
          "base_uri": "https://localhost:8080/"
        },
        "id": "Q0l4EKN1LLa6",
        "outputId": "c4fc98a9-cdad-4830-bd9c-b16873649df0"
      },
      "execution_count": 28,
      "outputs": [
        {
          "output_type": "stream",
          "name": "stdout",
          "text": [
            "HTML#, CSS#, JavaScript#, React\n"
          ]
        }
      ]
    },
    {
      "cell_type": "code",
      "source": [
        "# strip(): Removes both leading and trailing characters\n",
        "\n",
        "challenge = ' thirty days of python '\n",
        "print(challenge.strip('y')) # 5\n",
        "\n",
        "# replace(): Replaces substring inside\n",
        "\n",
        "challenge = 'thirty days of python'\n",
        "print(challenge.replace('python', 'coding')) # 'thirty days of coding'"
      ],
      "metadata": {
        "colab": {
          "base_uri": "https://localhost:8080/"
        },
        "id": "ofmpeBMMLNyi",
        "outputId": "148d9a43-d3aa-49f3-afdb-3f1ca8ecbadc"
      },
      "execution_count": 29,
      "outputs": [
        {
          "output_type": "stream",
          "name": "stdout",
          "text": [
            " thirty days of python \n",
            "thirty days of coding\n"
          ]
        }
      ]
    },
    {
      "cell_type": "code",
      "source": [
        "# split():Splits String from Left\n",
        "\n",
        "challenge = 'thirty days of python'\n",
        "print(challenge.split()) # ['thirty', 'days', 'of', 'python']\n",
        "\n",
        "# title(): Returns a Title Cased String\n",
        "\n",
        "challenge = 'thirty days of python'\n",
        "print(challenge.title()) # Thirty Days Of Python"
      ],
      "metadata": {
        "colab": {
          "base_uri": "https://localhost:8080/"
        },
        "id": "9DU0GzOPLQph",
        "outputId": "0f9ede67-093a-4b77-fb9a-e57dd636014a"
      },
      "execution_count": 30,
      "outputs": [
        {
          "output_type": "stream",
          "name": "stdout",
          "text": [
            "['thirty', 'days', 'of', 'python']\n",
            "Thirty Days Of Python\n"
          ]
        }
      ]
    },
    {
      "cell_type": "code",
      "execution_count": 32,
      "metadata": {
        "colab": {
          "base_uri": "https://localhost:8080/"
        },
        "id": "VZyq4UOyJiVc",
        "outputId": "b738322f-144c-4bd2-a053-6528a79f4cef"
      },
      "outputs": [
        {
          "output_type": "stream",
          "name": "stdout",
          "text": [
            "THIRTY DAYS OF PYTHON\n",
            "tHIRTY dAYS oF pYTHON\n"
          ]
        }
      ],
      "source": [
        "# swapcase(): Checks if String Starts with the Specified String\n",
        "\n",
        "challenge = 'thirty days of python'\n",
        "print(challenge.swapcase())   # THIRTY DAYS OF PYTHON\n",
        "challenge = 'Thirty Days Of Python'\n",
        "print(challenge.swapcase())  # tHIRTY dAYS oF pYTHON"
      ]
    },
    {
      "cell_type": "code",
      "source": [
        "# startswith(): Checks if String Starts with the Specified String\n",
        "\n",
        "challenge = 'thirty days of python'\n",
        "print(challenge.startswith('thirty')) # True\n",
        "challenge = '30 days of python'\n",
        "print(challenge.startswith('thirty')) # False"
      ],
      "metadata": {
        "colab": {
          "base_uri": "https://localhost:8080/"
        },
        "id": "CCLtqQEdLYxR",
        "outputId": "dbfa3c3a-2443-43c1-ed5f-95b472273fb5"
      },
      "execution_count": 33,
      "outputs": [
        {
          "output_type": "stream",
          "name": "stdout",
          "text": [
            "True\n",
            "False\n"
          ]
        }
      ]
    }
  ]
}